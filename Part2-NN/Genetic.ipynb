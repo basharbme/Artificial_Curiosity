{
 "cells": [
  {
   "cell_type": "code",
   "execution_count": 1,
   "metadata": {
    "collapsed": true
   },
   "outputs": [],
   "source": [
    "import numpy as np\n",
    "import pandas as pd\n",
    "import random"
   ]
  },
  {
   "cell_type": "markdown",
   "metadata": {},
   "source": [
    "# Genetic Algorithm"
   ]
  },
  {
   "cell_type": "markdown",
   "metadata": {},
   "source": [
    "Target Function - AUC of Validation set with AIC criteria - now using dummy"
   ]
  },
  {
   "cell_type": "code",
   "execution_count": 4,
   "metadata": {},
   "outputs": [],
   "source": [
    "def target(sample):\n",
    "    alfa,batch,l1,l2,l3,l4 = sample.values()\n",
    "    #dummy target function\n",
    "    return (alfa*batch*(l1-l2**2-l3+l4))**2"
   ]
  },
  {
   "cell_type": "code",
   "execution_count": 5,
   "metadata": {
    "collapsed": true
   },
   "outputs": [],
   "source": [
    "def create_initials(num):\n",
    "    #creates initial population\n",
    "    pop = []\n",
    "    for i in range(num):\n",
    "        node = {'a' : random.choice(a),'b' : random.choice(b), 'l1' : random.choice(l)}\n",
    "        node['l2'] =  random.randint(0,node['l1'])\n",
    "        node['l3'] =  random.randint(0,node['l2'])\n",
    "        node['l4'] = random.randint(0,node['l3'])\n",
    "        pop.append(node)\n",
    "    return pop"
   ]
  },
  {
   "cell_type": "code",
   "execution_count": 6,
   "metadata": {
    "collapsed": true
   },
   "outputs": [],
   "source": [
    "def cross(n1,n2):\n",
    "    #pick two random indexes - keep, switch and avg\n",
    "    k1,k2 = random.choice(n1.keys()), random.choice(n1.keys())\n",
    "    n3,n4 = n1, n1\n",
    "    n5,n6 = n2, n2\n",
    "    n3[k1], n3[k2] = n2[k1] ,n2[k2] #switch\n",
    "    n4[k1], n4[k2] = n1[k1] ,n1[k2]\n",
    "    n5[k1], n5[k2] = (n1[k1]+n2[k1])/2 ,(n1[k2]+n2[k2])/2 #avg\n",
    "    n6[k1], n6[k2] =  (n1[k1]+n2[k1])/2 ,(n1[k2]+n2[k2])/2 #avg\n",
    "    return [n1,n2,n3,n4,n5,n6]\n",
    "    "
   ]
  },
  {
   "cell_type": "code",
   "execution_count": 7,
   "metadata": {},
   "outputs": [],
   "source": [
    "def pickpair(vals,used):\n",
    "    totval = sum(values)\n",
    "    play = random.random()*totval\n",
    "    prev = 0\n",
    "    nextv = 0\n",
    "    for v in values:\n",
    "        nextv+=v\n",
    "        if play<=nextv and play>prev:\n",
    "            p1 = values.index(v) # pickfirst\n",
    "            break\n",
    "            while p1 in used:\n",
    "                p1+=1\n",
    "    p2 = p1\n",
    "    while p2 == p1:\n",
    "        p2 = random.randint(0,len(values)-1)\n",
    "    return p1,p2 # p1 - chosen gradually, p2 - randomly\n",
    "            \n",
    "    "
   ]
  },
  {
   "cell_type": "code",
   "execution_count": 8,
   "metadata": {
    "collapsed": true
   },
   "outputs": [],
   "source": [
    "def nextgen(values,pop, size):\n",
    "    # calculates next generation\n",
    "    sval = sorted(values, reverse=True)\n",
    "    newpop = []\n",
    "    for v in sval[size/2]:\n",
    "        newpop.append(pop[values.index(v)])\n",
    "    while len(newpop<size):\n",
    "        cand = random.choice(pop)\n",
    "        if cand not in newpop:\n",
    "            newpop.append(cand)\n",
    "    return newpop"
   ]
  },
  {
   "cell_type": "code",
   "execution_count": 15,
   "metadata": {
    "collapsed": true
   },
   "outputs": [],
   "source": [
    "def mutation(pop):\n",
    "    n  = random.randint(0,len(pop)-1)\n",
    "    v = random.choice(pop[0].keys())\n",
    "    if v == 'a':\n",
    "        r = random.choice(a)\n",
    "    elif v=='b':\n",
    "        r = random.choice(b)\n",
    "    else:\n",
    "        r = random.choice(l)\n",
    "    pop[n][v]=r\n",
    "    return pop"
   ]
  },
  {
   "cell_type": "markdown",
   "metadata": {},
   "source": [
    "# Start algorithm"
   ]
  },
  {
   "cell_type": "code",
   "execution_count": 18,
   "metadata": {
    "collapsed": true
   },
   "outputs": [],
   "source": [
    "# initial population ranges:\n",
    "\n",
    "\n",
    "a = [100,10,1,0.5,0.1,0.05,0.01,0.005,0.001,0.0001]\n",
    "b = [50,100,200,500,1000,2000,5000]\n",
    "l = [0,2,5,10,20,30,40,50]\n",
    "\n",
    "size = 10000\n",
    "bestval = 0\n",
    "best = {}\n",
    "iterations = 100\n",
    "pairs = 100\n",
    "\n",
    "random.seed(101)"
   ]
  },
  {
   "cell_type": "code",
   "execution_count": 19,
   "metadata": {},
   "outputs": [
    {
     "name": "stdout",
     "output_type": "stream",
     "text": [
      "iteration: 0 best: 1500625000000000000 {'a': 0.1, 'b': 500, 'l4': 0, 'l2': 4, 'l3': 3, 'l1': 5}\n",
      "iteration: 10 best: 1500625000000000000 {'a': 0.1, 'b': 500, 'l4': 0, 'l2': 4, 'l3': 3, 'l1': 5}\n",
      "iteration: 20 best: 1500625000000000000 {'a': 0.1, 'b': 500, 'l4': 0, 'l2': 4, 'l3': 3, 'l1': 5}\n",
      "iteration: 30 best: 1500625000000000000 {'a': 0.1, 'b': 500, 'l4': 0, 'l2': 4, 'l3': 3, 'l1': 5}\n",
      "iteration: 40 best: 1500625000000000000 {'a': 0.1, 'b': 500, 'l4': 0, 'l2': 4, 'l3': 3, 'l1': 5}\n",
      "iteration: 50 best: 1500625000000000000 {'a': 0.1, 'b': 500, 'l4': 0, 'l2': 4, 'l3': 3, 'l1': 5}\n",
      "iteration: 60 best: 1500625000000000000 {'a': 0.1, 'b': 500, 'l4': 0, 'l2': 4, 'l3': 3, 'l1': 5}\n",
      "iteration: 70 best: 1500625000000000000 {'a': 0.1, 'b': 500, 'l4': 0, 'l2': 4, 'l3': 3, 'l1': 5}\n",
      "iteration: 80 best: 1500625000000000000 {'a': 0.1, 'b': 500, 'l4': 0, 'l2': 4, 'l3': 3, 'l1': 5}\n",
      "iteration: 90 best: 1500625000000000000 {'a': 0.1, 'b': 500, 'l4': 0, 'l2': 4, 'l3': 3, 'l1': 5}\n"
     ]
    }
   ],
   "source": [
    "pop = create_initials(size)\n",
    "\n",
    "for i in range(iterations):\n",
    "    values = []\n",
    "    for s in pop:\n",
    "        values.append(target(s))\n",
    "\n",
    "    if max(values)>bestval:\n",
    "        bestval = max(values)\n",
    "        best = pop[values.index(bestval)]\n",
    "        \n",
    "    newpop = pop[:]\n",
    "    used = []\n",
    "    for p in range(pairs):\n",
    "        pair = pickpair(values,used)\n",
    "        used += list(pair)\n",
    "        new = cross(pop[pair[0]],pop[pair[1]])\n",
    "        newpop+=new\n",
    "    \n",
    "    pop = mutation(newpop)\n",
    "        \n",
    "    if i%(iterations/10)==0:print 'iteration:',i,'best:',bestval,best\n",
    "        "
   ]
  },
  {
   "cell_type": "code",
   "execution_count": null,
   "metadata": {
    "collapsed": true
   },
   "outputs": [],
   "source": []
  }
 ],
 "metadata": {
  "kernelspec": {
   "display_name": "Python 2",
   "language": "python",
   "name": "python2"
  },
  "language_info": {
   "codemirror_mode": {
    "name": "ipython",
    "version": 2
   },
   "file_extension": ".py",
   "mimetype": "text/x-python",
   "name": "python",
   "nbconvert_exporter": "python",
   "pygments_lexer": "ipython2",
   "version": "2.7.13"
  }
 },
 "nbformat": 4,
 "nbformat_minor": 1
}
