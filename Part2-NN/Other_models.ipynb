{
 "cells": [
  {
   "cell_type": "code",
   "execution_count": 2,
   "metadata": {},
   "outputs": [],
   "source": [
    "import pandas as pd\n",
    "import os\n",
    "import seaborn as sns\n",
    "import matplotlib.pyplot as plt\n",
    "import matplotlib as mpl\n",
    "%matplotlib inline\n",
    "import numpy as np\n",
    "from tqdm import tqdm\n",
    "from tqdm import trange"
   ]
  },
  {
   "cell_type": "code",
   "execution_count": 4,
   "metadata": {},
   "outputs": [],
   "source": [
    "minmax_new_dset = pd.read_csv('minmax.csv')"
   ]
  },
  {
   "cell_type": "markdown",
   "metadata": {},
   "source": [
    "## Divide the data to train , validation and test"
   ]
  },
  {
   "cell_type": "code",
   "execution_count": 5,
   "metadata": {},
   "outputs": [],
   "source": [
    "TrainSize=0.1 #0.7\n",
    "validationsize = 0.1\n",
    "train=minmax_new_dset.sample(frac=TrainSize,random_state=200)\n",
    "test=minmax_new_dset.drop(train.index)\n",
    "validation = test.sample(frac=validationsize/(1.0-TrainSize),random_state=200)\n",
    "test=test.drop(validation.index)"
   ]
  },
  {
   "cell_type": "code",
   "execution_count": 6,
   "metadata": {},
   "outputs": [
    {
     "data": {
      "text/plain": [
       "((40663, 35), (40663, 35), (325304, 35))"
      ]
     },
     "execution_count": 6,
     "metadata": {},
     "output_type": "execute_result"
    }
   ],
   "source": [
    "train.shape, validation.shape, test.shape"
   ]
  },
  {
   "cell_type": "markdown",
   "metadata": {},
   "source": [
    "# Random Forest Model"
   ]
  },
  {
   "cell_type": "code",
   "execution_count": 7,
   "metadata": {},
   "outputs": [
    {
     "data": {
      "text/html": [
       "<div>\n",
       "<style>\n",
       "    .dataframe thead tr:only-child th {\n",
       "        text-align: right;\n",
       "    }\n",
       "\n",
       "    .dataframe thead th {\n",
       "        text-align: left;\n",
       "    }\n",
       "\n",
       "    .dataframe tbody tr th {\n",
       "        vertical-align: top;\n",
       "    }\n",
       "</style>\n",
       "<table border=\"1\" class=\"dataframe\">\n",
       "  <thead>\n",
       "    <tr style=\"text-align: right;\">\n",
       "      <th></th>\n",
       "      <th>minutes_remaining</th>\n",
       "      <th>period</th>\n",
       "      <th>seconds_remaining</th>\n",
       "      <th>shot_distance</th>\n",
       "      <th>label</th>\n",
       "      <th>loc_x</th>\n",
       "      <th>loc_y</th>\n",
       "      <th>season</th>\n",
       "      <th>is_home</th>\n",
       "      <th>numpos</th>\n",
       "      <th>...</th>\n",
       "      <th>Bank</th>\n",
       "      <th>Reverse</th>\n",
       "      <th>Fadeaway</th>\n",
       "      <th>Back</th>\n",
       "      <th>Alley</th>\n",
       "      <th>Jump</th>\n",
       "      <th>Hook</th>\n",
       "      <th>Slam</th>\n",
       "      <th>Floating</th>\n",
       "      <th>Oop</th>\n",
       "    </tr>\n",
       "  </thead>\n",
       "  <tbody>\n",
       "    <tr>\n",
       "      <th>0</th>\n",
       "      <td>0.166667</td>\n",
       "      <td>0.333333</td>\n",
       "      <td>0.338983</td>\n",
       "      <td>0.034884</td>\n",
       "      <td>1.0</td>\n",
       "      <td>0.574</td>\n",
       "      <td>0.066152</td>\n",
       "      <td>0.0</td>\n",
       "      <td>0.0</td>\n",
       "      <td>0.0</td>\n",
       "      <td>...</td>\n",
       "      <td>0.0</td>\n",
       "      <td>0.0</td>\n",
       "      <td>0.0</td>\n",
       "      <td>0.0</td>\n",
       "      <td>0.0</td>\n",
       "      <td>0.0</td>\n",
       "      <td>0.0</td>\n",
       "      <td>0.0</td>\n",
       "      <td>0.0</td>\n",
       "      <td>0.0</td>\n",
       "    </tr>\n",
       "    <tr>\n",
       "      <th>1</th>\n",
       "      <td>0.500000</td>\n",
       "      <td>0.333333</td>\n",
       "      <td>0.694915</td>\n",
       "      <td>0.023256</td>\n",
       "      <td>1.0</td>\n",
       "      <td>0.540</td>\n",
       "      <td>0.068357</td>\n",
       "      <td>0.0</td>\n",
       "      <td>1.0</td>\n",
       "      <td>0.0</td>\n",
       "      <td>...</td>\n",
       "      <td>0.0</td>\n",
       "      <td>0.0</td>\n",
       "      <td>0.0</td>\n",
       "      <td>0.0</td>\n",
       "      <td>0.0</td>\n",
       "      <td>0.0</td>\n",
       "      <td>0.0</td>\n",
       "      <td>0.0</td>\n",
       "      <td>0.0</td>\n",
       "      <td>0.0</td>\n",
       "    </tr>\n",
       "    <tr>\n",
       "      <th>2</th>\n",
       "      <td>0.500000</td>\n",
       "      <td>0.333333</td>\n",
       "      <td>0.016949</td>\n",
       "      <td>0.034884</td>\n",
       "      <td>0.0</td>\n",
       "      <td>0.564</td>\n",
       "      <td>0.069460</td>\n",
       "      <td>0.0</td>\n",
       "      <td>1.0</td>\n",
       "      <td>0.0</td>\n",
       "      <td>...</td>\n",
       "      <td>0.0</td>\n",
       "      <td>0.0</td>\n",
       "      <td>0.0</td>\n",
       "      <td>0.0</td>\n",
       "      <td>0.0</td>\n",
       "      <td>1.0</td>\n",
       "      <td>0.0</td>\n",
       "      <td>0.0</td>\n",
       "      <td>0.0</td>\n",
       "      <td>0.0</td>\n",
       "    </tr>\n",
       "    <tr>\n",
       "      <th>3</th>\n",
       "      <td>0.333333</td>\n",
       "      <td>0.333333</td>\n",
       "      <td>0.745763</td>\n",
       "      <td>0.279070</td>\n",
       "      <td>0.0</td>\n",
       "      <td>0.064</td>\n",
       "      <td>0.184123</td>\n",
       "      <td>0.0</td>\n",
       "      <td>1.0</td>\n",
       "      <td>0.0</td>\n",
       "      <td>...</td>\n",
       "      <td>0.0</td>\n",
       "      <td>0.0</td>\n",
       "      <td>0.0</td>\n",
       "      <td>0.0</td>\n",
       "      <td>0.0</td>\n",
       "      <td>1.0</td>\n",
       "      <td>0.0</td>\n",
       "      <td>0.0</td>\n",
       "      <td>0.0</td>\n",
       "      <td>0.0</td>\n",
       "    </tr>\n",
       "    <tr>\n",
       "      <th>4</th>\n",
       "      <td>0.166667</td>\n",
       "      <td>0.333333</td>\n",
       "      <td>0.525424</td>\n",
       "      <td>0.232558</td>\n",
       "      <td>0.0</td>\n",
       "      <td>0.578</td>\n",
       "      <td>0.273429</td>\n",
       "      <td>0.0</td>\n",
       "      <td>1.0</td>\n",
       "      <td>0.0</td>\n",
       "      <td>...</td>\n",
       "      <td>0.0</td>\n",
       "      <td>0.0</td>\n",
       "      <td>0.0</td>\n",
       "      <td>0.0</td>\n",
       "      <td>0.0</td>\n",
       "      <td>1.0</td>\n",
       "      <td>0.0</td>\n",
       "      <td>0.0</td>\n",
       "      <td>0.0</td>\n",
       "      <td>0.0</td>\n",
       "    </tr>\n",
       "  </tbody>\n",
       "</table>\n",
       "<p>5 rows × 35 columns</p>\n",
       "</div>"
      ],
      "text/plain": [
       "   minutes_remaining    period  seconds_remaining  shot_distance  label  \\\n",
       "0           0.166667  0.333333           0.338983       0.034884    1.0   \n",
       "1           0.500000  0.333333           0.694915       0.023256    1.0   \n",
       "2           0.500000  0.333333           0.016949       0.034884    0.0   \n",
       "3           0.333333  0.333333           0.745763       0.279070    0.0   \n",
       "4           0.166667  0.333333           0.525424       0.232558    0.0   \n",
       "\n",
       "   loc_x     loc_y  season  is_home  numpos ...   Bank  Reverse  Fadeaway  \\\n",
       "0  0.574  0.066152     0.0      0.0     0.0 ...    0.0      0.0       0.0   \n",
       "1  0.540  0.068357     0.0      1.0     0.0 ...    0.0      0.0       0.0   \n",
       "2  0.564  0.069460     0.0      1.0     0.0 ...    0.0      0.0       0.0   \n",
       "3  0.064  0.184123     0.0      1.0     0.0 ...    0.0      0.0       0.0   \n",
       "4  0.578  0.273429     0.0      1.0     0.0 ...    0.0      0.0       0.0   \n",
       "\n",
       "   Back  Alley  Jump  Hook  Slam  Floating  Oop  \n",
       "0   0.0    0.0   0.0   0.0   0.0       0.0  0.0  \n",
       "1   0.0    0.0   0.0   0.0   0.0       0.0  0.0  \n",
       "2   0.0    0.0   1.0   0.0   0.0       0.0  0.0  \n",
       "3   0.0    0.0   1.0   0.0   0.0       0.0  0.0  \n",
       "4   0.0    0.0   1.0   0.0   0.0       0.0  0.0  \n",
       "\n",
       "[5 rows x 35 columns]"
      ]
     },
     "execution_count": 7,
     "metadata": {},
     "output_type": "execute_result"
    }
   ],
   "source": [
    "minmax_new_dset.head()"
   ]
  },
  {
   "cell_type": "code",
   "execution_count": 8,
   "metadata": {},
   "outputs": [],
   "source": [
    "import tqdm"
   ]
  },
  {
   "cell_type": "code",
   "execution_count": 10,
   "metadata": {},
   "outputs": [],
   "source": [
    "tqdm.tqdm.pandas()"
   ]
  },
  {
   "cell_type": "code",
   "execution_count": 13,
   "metadata": {
    "collapsed": true
   },
   "outputs": [],
   "source": [
    "from sklearn.ensemble import RandomForestClassifier as RFC\n",
    "from sklearn.ensemble import RandomForestRegressor as RFR\n",
    "from sklearn.metrics import roc_auc_score, roc_curve"
   ]
  },
  {
   "cell_type": "code",
   "execution_count": 25,
   "metadata": {},
   "outputs": [],
   "source": [
    "model = RFC(n_jobs=3, n_estimators=500, max_depth=40)\n",
    "model.fit(train.drop('label', axis=1),train.label)\n",
    "predtrain= model.predict(train.drop('label', axis=1))"
   ]
  },
  {
   "cell_type": "markdown",
   "metadata": {},
   "source": [
    "# Train AUC"
   ]
  },
  {
   "cell_type": "code",
   "execution_count": 26,
   "metadata": {},
   "outputs": [
    {
     "name": "stdout",
     "output_type": "stream",
     "text": [
      "0.999932834818\n"
     ]
    },
    {
     "data": {
      "image/png": "[encoded data removed]",
      "text/plain": [
       "<matplotlib.figure.Figure at 0x19707e80>"
      ]
     },
     "metadata": {},
     "output_type": "display_data"
    }
   ],
   "source": [
    "y_true ,y_scores = train.label, predtrain\n",
    "fpr, tpr, _ = roc_curve(y_true.ravel(), y_scores.ravel())\n",
    "AUC=(roc_auc_score(y_true, y_scores))\n",
    "plt.xlim([-0.02,1.01])\n",
    "plt.ylim([-0.01,1.02])\n",
    "ax =plt.plot(fpr, tpr)\n",
    "#leg = zip(alphas,AUC)\n",
    "plt.title('ROC curves of different alphas')\n",
    "#l = plt.legend(map(lambda x: 'alpha: '+str(x[0])+' AUC:'+str(round(x[1],3)),leg), loc = 2)\n",
    "print AUC"
   ]
  },
  {
   "cell_type": "code",
   "execution_count": 29,
   "metadata": {},
   "outputs": [
    {
     "name": "stdout",
     "output_type": "stream",
     "text": [
      "0.619088475441\n"
     ]
    },
    {
     "data": {
      "image/png": "[encoded data removed]",
      "text/plain": [
       "<matplotlib.figure.Figure at 0x19b116d8>"
      ]
     },
     "metadata": {},
     "output_type": "display_data"
    }
   ],
   "source": [
    "predval= model.predict(validation.drop('label', axis=1))\n",
    "y_true ,y_scores = validation.label, predval\n",
    "fpr, tpr, _ = roc_curve(y_true.ravel(), y_scores.ravel())\n",
    "AUC=(roc_auc_score(y_true, y_scores))\n",
    "plt.xlim([-0.02,1.01])\n",
    "plt.ylim([-0.01,1.02])\n",
    "ax =plt.plot(fpr, tpr)\n",
    "#leg = zip(alphas,AUC)\n",
    "plt.title('ROC curves of different alphas')\n",
    "#l = plt.legend(map(lambda x: 'alpha: '+str(x[0])+' AUC:'+str(round(x[1],3)),leg), loc = 2)\n",
    "print AUC"
   ]
  },
  {
   "cell_type": "code",
   "execution_count": 10,
   "metadata": {},
   "outputs": [
    {
     "data": {
      "text/plain": [
       "[(0.14773652258643485, 'shot_distance'),\n",
       " (0.14712529199207564, 'seconds_remaining'),\n",
       " (0.13843102830120879, 'angle'),\n",
       " (0.11143172649736428, 'loc_x'),\n",
       " (0.10220667237872853, 'loc_y'),\n",
       " (0.09198298372863975, 'minutes_remaining'),\n",
       " (0.047685911339429767, 'numpos'),\n",
       " (0.047196249030635851, 'period'),\n",
       " (0.026430841282935384, 'Dunk'),\n",
       " (0.02074972140943785, 'is_home')]"
      ]
     },
     "execution_count": 10,
     "metadata": {},
     "output_type": "execute_result"
    }
   ],
   "source": [
    "fetimp = sorted(zip(list(model.feature_importances_),train.columns.drop('label')),reverse = True)\n",
    "fetimp[:10]"
   ]
  },
  {
   "cell_type": "code",
   "execution_count": 11,
   "metadata": {},
   "outputs": [
    {
     "data": {
      "image/png": "[encoded data removed]",
      "text/plain": [
       "<matplotlib.figure.Figure at 0x1b462eb8>"
      ]
     },
     "metadata": {},
     "output_type": "display_data"
    }
   ],
   "source": [
    "from paretochart import pareto\n",
    "plt.title('Features Pareto', fontsize=18)\n",
    "par = pareto(model.feature_importances_,train.columns.drop('label'), limit = 0.7)"
   ]
  },
  {
   "cell_type": "markdown",
   "metadata": {},
   "source": [
    "# SVM"
   ]
  },
  {
   "cell_type": "code",
   "execution_count": 31,
   "metadata": {
    "collapsed": true
   },
   "outputs": [],
   "source": [
    "import sklearn.svm as svm"
   ]
  },
  {
   "cell_type": "code",
   "execution_count": 32,
   "metadata": {
    "collapsed": true
   },
   "outputs": [],
   "source": [
    "clf = svm.SVC()\n",
    "clf.fit(train.drop('label', axis=1), train.label) \n",
    "preds= clf.predict(train.drop('label', axis=1))"
   ]
  },
  {
   "cell_type": "code",
   "execution_count": 33,
   "metadata": {},
   "outputs": [
    {
     "name": "stdout",
     "output_type": "stream",
     "text": [
      "0.622735658243\n"
     ]
    },
    {
     "data": {
      "image/png": "[encoded data removed]",
      "text/plain": [
       "<matplotlib.figure.Figure at 0x1ba3a4e0>"
      ]
     },
     "metadata": {},
     "output_type": "display_data"
    }
   ],
   "source": [
    "y_true ,y_scores = train.label, preds\n",
    "fpr, tpr, _ = roc_curve(y_true.ravel(), y_scores.ravel())\n",
    "AUC=(roc_auc_score(y_true, y_scores))\n",
    "plt.xlim([-0.02,1.01])\n",
    "plt.ylim([-0.01,1.02])\n",
    "ax =plt.plot(fpr, tpr)\n",
    "#leg = zip(alphas,AUC)\n",
    "plt.title('ROC curves of different alphas')\n",
    "#l = plt.legend(map(lambda x: 'alpha: '+str(x[0])+' AUC:'+str(round(x[1],3)),leg), loc = 2)\n",
    "print AUC"
   ]
  },
  {
   "cell_type": "code",
   "execution_count": 35,
   "metadata": {},
   "outputs": [
    {
     "name": "stdout",
     "output_type": "stream",
     "text": [
      "0.616149679371\n"
     ]
    },
    {
     "data": {
      "image/png": "[encoded data removed]",
      "text/plain": [
       "<matplotlib.figure.Figure at 0x1fc9a6d8>"
      ]
     },
     "metadata": {},
     "output_type": "display_data"
    }
   ],
   "source": [
    "predval= clf.predict(validation.drop('label', axis=1))\n",
    "y_true ,y_scores = validation.label, predval\n",
    "fpr, tpr, _ = roc_curve(y_true.ravel(), y_scores.ravel())\n",
    "AUC=(roc_auc_score(y_true, y_scores))\n",
    "plt.xlim([-0.02,1.01])\n",
    "plt.ylim([-0.01,1.02])\n",
    "ax =plt.plot(fpr, tpr)\n",
    "#leg = zip(alphas,AUC)\n",
    "plt.title('ROC curves of different alphas')\n",
    "#l = plt.legend(map(lambda x: 'alpha: '+str(x[0])+' AUC:'+str(round(x[1],3)),leg), loc = 2)\n",
    "print AUC"
   ]
  },
  {
   "cell_type": "markdown",
   "metadata": {},
   "source": [
    "# PCA"
   ]
  },
  {
   "cell_type": "code",
   "execution_count": 44,
   "metadata": {},
   "outputs": [
    {
     "data": {
      "text/html": [
       "<div>\n",
       "<table border=\"1\" class=\"dataframe\">\n",
       "  <thead>\n",
       "    <tr style=\"text-align: right;\">\n",
       "      <th></th>\n",
       "      <th>minutes_remaining</th>\n",
       "      <th>period</th>\n",
       "      <th>seconds_remaining</th>\n",
       "      <th>shot_distance</th>\n",
       "      <th>label</th>\n",
       "      <th>loc_x</th>\n",
       "      <th>loc_y</th>\n",
       "      <th>season</th>\n",
       "      <th>is_home</th>\n",
       "      <th>numpos</th>\n",
       "      <th>...</th>\n",
       "      <th>Bank</th>\n",
       "      <th>Reverse</th>\n",
       "      <th>Fadeaway</th>\n",
       "      <th>Back</th>\n",
       "      <th>Alley</th>\n",
       "      <th>Jump</th>\n",
       "      <th>Hook</th>\n",
       "      <th>Slam</th>\n",
       "      <th>Floating</th>\n",
       "      <th>Oop</th>\n",
       "    </tr>\n",
       "  </thead>\n",
       "  <tbody>\n",
       "    <tr>\n",
       "      <th>count</th>\n",
       "      <td>40663.000000</td>\n",
       "      <td>40663.000000</td>\n",
       "      <td>40663.000000</td>\n",
       "      <td>40663.000000</td>\n",
       "      <td>40663.000000</td>\n",
       "      <td>40663.000000</td>\n",
       "      <td>40663.000000</td>\n",
       "      <td>40663.000000</td>\n",
       "      <td>40663.000000</td>\n",
       "      <td>40663.000000</td>\n",
       "      <td>...</td>\n",
       "      <td>40663.000000</td>\n",
       "      <td>40663.000000</td>\n",
       "      <td>40663.000000</td>\n",
       "      <td>40663.000000</td>\n",
       "      <td>40663.000000</td>\n",
       "      <td>40663.000000</td>\n",
       "      <td>40663.000000</td>\n",
       "      <td>40663.000000</td>\n",
       "      <td>40663.000000</td>\n",
       "      <td>40663.000000</td>\n",
       "    </tr>\n",
       "    <tr>\n",
       "      <th>mean</th>\n",
       "      <td>0.447370</td>\n",
       "      <td>0.485913</td>\n",
       "      <td>0.487614</td>\n",
       "      <td>0.143143</td>\n",
       "      <td>0.450778</td>\n",
       "      <td>0.498159</td>\n",
       "      <td>0.145077</td>\n",
       "      <td>0.511325</td>\n",
       "      <td>0.500209</td>\n",
       "      <td>0.432111</td>\n",
       "      <td>...</td>\n",
       "      <td>0.019182</td>\n",
       "      <td>0.018272</td>\n",
       "      <td>0.021494</td>\n",
       "      <td>0.019797</td>\n",
       "      <td>0.011239</td>\n",
       "      <td>0.649165</td>\n",
       "      <td>0.036151</td>\n",
       "      <td>0.006738</td>\n",
       "      <td>0.027839</td>\n",
       "      <td>0.011239</td>\n",
       "    </tr>\n",
       "    <tr>\n",
       "      <th>std</th>\n",
       "      <td>0.288079</td>\n",
       "      <td>0.371546</td>\n",
       "      <td>0.295789</td>\n",
       "      <td>0.115511</td>\n",
       "      <td>0.497577</td>\n",
       "      <td>0.218554</td>\n",
       "      <td>0.097396</td>\n",
       "      <td>0.499878</td>\n",
       "      <td>0.500006</td>\n",
       "      <td>0.389428</td>\n",
       "      <td>...</td>\n",
       "      <td>0.137166</td>\n",
       "      <td>0.133935</td>\n",
       "      <td>0.145025</td>\n",
       "      <td>0.139303</td>\n",
       "      <td>0.105417</td>\n",
       "      <td>0.477237</td>\n",
       "      <td>0.186668</td>\n",
       "      <td>0.081811</td>\n",
       "      <td>0.164512</td>\n",
       "      <td>0.105417</td>\n",
       "    </tr>\n",
       "    <tr>\n",
       "      <th>min</th>\n",
       "      <td>0.000000</td>\n",
       "      <td>0.000000</td>\n",
       "      <td>0.000000</td>\n",
       "      <td>0.000000</td>\n",
       "      <td>0.000000</td>\n",
       "      <td>0.000000</td>\n",
       "      <td>0.008820</td>\n",
       "      <td>0.000000</td>\n",
       "      <td>0.000000</td>\n",
       "      <td>0.000000</td>\n",
       "      <td>...</td>\n",
       "      <td>0.000000</td>\n",
       "      <td>0.000000</td>\n",
       "      <td>0.000000</td>\n",
       "      <td>0.000000</td>\n",
       "      <td>0.000000</td>\n",
       "      <td>0.000000</td>\n",
       "      <td>0.000000</td>\n",
       "      <td>0.000000</td>\n",
       "      <td>0.000000</td>\n",
       "      <td>0.000000</td>\n",
       "    </tr>\n",
       "    <tr>\n",
       "      <th>25%</th>\n",
       "      <td>0.166667</td>\n",
       "      <td>0.000000</td>\n",
       "      <td>0.237288</td>\n",
       "      <td>0.023256</td>\n",
       "      <td>0.000000</td>\n",
       "      <td>0.396000</td>\n",
       "      <td>0.063947</td>\n",
       "      <td>0.000000</td>\n",
       "      <td>0.000000</td>\n",
       "      <td>0.000000</td>\n",
       "      <td>...</td>\n",
       "      <td>0.000000</td>\n",
       "      <td>0.000000</td>\n",
       "      <td>0.000000</td>\n",
       "      <td>0.000000</td>\n",
       "      <td>0.000000</td>\n",
       "      <td>0.000000</td>\n",
       "      <td>0.000000</td>\n",
       "      <td>0.000000</td>\n",
       "      <td>0.000000</td>\n",
       "      <td>0.000000</td>\n",
       "    </tr>\n",
       "    <tr>\n",
       "      <th>50%</th>\n",
       "      <td>0.416667</td>\n",
       "      <td>0.333333</td>\n",
       "      <td>0.491525</td>\n",
       "      <td>0.139535</td>\n",
       "      <td>0.000000</td>\n",
       "      <td>0.500000</td>\n",
       "      <td>0.101433</td>\n",
       "      <td>1.000000</td>\n",
       "      <td>1.000000</td>\n",
       "      <td>0.714286</td>\n",
       "      <td>...</td>\n",
       "      <td>0.000000</td>\n",
       "      <td>0.000000</td>\n",
       "      <td>0.000000</td>\n",
       "      <td>0.000000</td>\n",
       "      <td>0.000000</td>\n",
       "      <td>1.000000</td>\n",
       "      <td>0.000000</td>\n",
       "      <td>0.000000</td>\n",
       "      <td>0.000000</td>\n",
       "      <td>0.000000</td>\n",
       "    </tr>\n",
       "    <tr>\n",
       "      <th>75%</th>\n",
       "      <td>0.666667</td>\n",
       "      <td>0.666667</td>\n",
       "      <td>0.745763</td>\n",
       "      <td>0.267442</td>\n",
       "      <td>1.000000</td>\n",
       "      <td>0.600000</td>\n",
       "      <td>0.226020</td>\n",
       "      <td>1.000000</td>\n",
       "      <td>1.000000</td>\n",
       "      <td>0.714286</td>\n",
       "      <td>...</td>\n",
       "      <td>0.000000</td>\n",
       "      <td>0.000000</td>\n",
       "      <td>0.000000</td>\n",
       "      <td>0.000000</td>\n",
       "      <td>0.000000</td>\n",
       "      <td>1.000000</td>\n",
       "      <td>0.000000</td>\n",
       "      <td>0.000000</td>\n",
       "      <td>0.000000</td>\n",
       "      <td>0.000000</td>\n",
       "    </tr>\n",
       "    <tr>\n",
       "      <th>max</th>\n",
       "      <td>1.000000</td>\n",
       "      <td>1.000000</td>\n",
       "      <td>1.000000</td>\n",
       "      <td>0.941860</td>\n",
       "      <td>1.000000</td>\n",
       "      <td>1.000000</td>\n",
       "      <td>0.944873</td>\n",
       "      <td>1.000000</td>\n",
       "      <td>1.000000</td>\n",
       "      <td>1.000000</td>\n",
       "      <td>...</td>\n",
       "      <td>1.000000</td>\n",
       "      <td>1.000000</td>\n",
       "      <td>1.000000</td>\n",
       "      <td>1.000000</td>\n",
       "      <td>1.000000</td>\n",
       "      <td>1.000000</td>\n",
       "      <td>1.000000</td>\n",
       "      <td>1.000000</td>\n",
       "      <td>1.000000</td>\n",
       "      <td>1.000000</td>\n",
       "    </tr>\n",
       "  </tbody>\n",
       "</table>\n",
       "<p>8 rows × 35 columns</p>\n",
       "</div>"
      ],
      "text/plain": [
       "       minutes_remaining        period  seconds_remaining  shot_distance  \\\n",
       "count       40663.000000  40663.000000       40663.000000   40663.000000   \n",
       "mean            0.447370      0.485913           0.487614       0.143143   \n",
       "std             0.288079      0.371546           0.295789       0.115511   \n",
       "min             0.000000      0.000000           0.000000       0.000000   \n",
       "25%             0.166667      0.000000           0.237288       0.023256   \n",
       "50%             0.416667      0.333333           0.491525       0.139535   \n",
       "75%             0.666667      0.666667           0.745763       0.267442   \n",
       "max             1.000000      1.000000           1.000000       0.941860   \n",
       "\n",
       "              label         loc_x         loc_y        season       is_home  \\\n",
       "count  40663.000000  40663.000000  40663.000000  40663.000000  40663.000000   \n",
       "mean       0.450778      0.498159      0.145077      0.511325      0.500209   \n",
       "std        0.497577      0.218554      0.097396      0.499878      0.500006   \n",
       "min        0.000000      0.000000      0.008820      0.000000      0.000000   \n",
       "25%        0.000000      0.396000      0.063947      0.000000      0.000000   \n",
       "50%        0.000000      0.500000      0.101433      1.000000      1.000000   \n",
       "75%        1.000000      0.600000      0.226020      1.000000      1.000000   \n",
       "max        1.000000      1.000000      0.944873      1.000000      1.000000   \n",
       "\n",
       "             numpos      ...               Bank       Reverse      Fadeaway  \\\n",
       "count  40663.000000      ...       40663.000000  40663.000000  40663.000000   \n",
       "mean       0.432111      ...           0.019182      0.018272      0.021494   \n",
       "std        0.389428      ...           0.137166      0.133935      0.145025   \n",
       "min        0.000000      ...           0.000000      0.000000      0.000000   \n",
       "25%        0.000000      ...           0.000000      0.000000      0.000000   \n",
       "50%        0.714286      ...           0.000000      0.000000      0.000000   \n",
       "75%        0.714286      ...           0.000000      0.000000      0.000000   \n",
       "max        1.000000      ...           1.000000      1.000000      1.000000   \n",
       "\n",
       "               Back         Alley          Jump          Hook          Slam  \\\n",
       "count  40663.000000  40663.000000  40663.000000  40663.000000  40663.000000   \n",
       "mean       0.019797      0.011239      0.649165      0.036151      0.006738   \n",
       "std        0.139303      0.105417      0.477237      0.186668      0.081811   \n",
       "min        0.000000      0.000000      0.000000      0.000000      0.000000   \n",
       "25%        0.000000      0.000000      0.000000      0.000000      0.000000   \n",
       "50%        0.000000      0.000000      1.000000      0.000000      0.000000   \n",
       "75%        0.000000      0.000000      1.000000      0.000000      0.000000   \n",
       "max        1.000000      1.000000      1.000000      1.000000      1.000000   \n",
       "\n",
       "           Floating           Oop  \n",
       "count  40663.000000  40663.000000  \n",
       "mean       0.027839      0.011239  \n",
       "std        0.164512      0.105417  \n",
       "min        0.000000      0.000000  \n",
       "25%        0.000000      0.000000  \n",
       "50%        0.000000      0.000000  \n",
       "75%        0.000000      0.000000  \n",
       "max        1.000000      1.000000  \n",
       "\n",
       "[8 rows x 35 columns]"
      ]
     },
     "execution_count": 44,
     "metadata": {},
     "output_type": "execute_result"
    }
   ],
   "source": [
    "train.describe()"
   ]
  },
  {
   "cell_type": "code",
   "execution_count": 84,
   "metadata": {},
   "outputs": [],
   "source": [
    "minmax_new_dset\n",
    "subset = minmax_new_dset[[u'minutes_remaining', u'period', u'seconds_remaining', u'shot_distance', u'loc_x', u'loc_y', u'season', u'is_home', u'numpos',\n",
    "       u'angle']]"
   ]
  },
  {
   "cell_type": "code",
   "execution_count": 86,
   "metadata": {},
   "outputs": [
    {
     "name": "stdout",
     "output_type": "stream",
     "text": [
      "[ 0.22323649  0.22304533]\n"
     ]
    }
   ],
   "source": [
    "from sklearn.decomposition import PCA\n",
    "X = np.array([[-1, -1], [-2, -1], [-3, -2], [1, 1], [2, 1], [3, 2]])\n",
    "pca = PCA(n_components=2)\n",
    "pca.fit(subset)\n",
    "PCA(copy=True, n_components=2, whiten=False)\n",
    "print(pca.explained_variance_ratio_) "
   ]
  },
  {
   "cell_type": "code",
   "execution_count": 87,
   "metadata": {
    "collapsed": true
   },
   "outputs": [],
   "source": [
    "new = pca.transform(subset)"
   ]
  },
  {
   "cell_type": "code",
   "execution_count": 95,
   "metadata": {
    "collapsed": true
   },
   "outputs": [],
   "source": [
    "cols = minmax_new_dset.label.apply(lambda x: 'r' if x==0 else 'g')"
   ]
  },
  {
   "cell_type": "code",
   "execution_count": 97,
   "metadata": {},
   "outputs": [
    {
     "data": {
      "text/plain": [
       "<matplotlib.collections.PathCollection at 0x65867cf8>"
      ]
     },
     "execution_count": 97,
     "metadata": {},
     "output_type": "execute_result"
    },
    {
     "data": {
      "image/png": "[encoded data removed]",
      "text/plain": [
       "<matplotlib.figure.Figure at 0x81b7cc18>"
      ]
     },
     "metadata": {},
     "output_type": "display_data"
    }
   ],
   "source": [
    "plt.scatter(new[:,0],new[:,1],c=cols)"
   ]
  }
 ],
 "metadata": {
  "kernelspec": {
   "display_name": "Python 2",
   "language": "python",
   "name": "python2"
  },
  "language_info": {
   "codemirror_mode": {
    "name": "ipython",
    "version": 2
   },
   "file_extension": ".py",
   "mimetype": "text/x-python",
   "name": "python",
   "nbconvert_exporter": "python",
   "pygments_lexer": "ipython2",
   "version": "2.7.13"
  }
 },
 "nbformat": 4,
 "nbformat_minor": 1
}
