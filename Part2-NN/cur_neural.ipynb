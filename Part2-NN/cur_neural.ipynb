{
 "cells": [
  {
   "cell_type": "markdown",
   "metadata": {},
   "source": [
    "# Part2 - Neural Networks"
   ]
  },
  {
   "cell_type": "markdown",
   "metadata": {},
   "source": [
    "In this part we aim to build a manual neural network based on SGD, and to optimize it's structure using grid search and genetic algorithm method."
   ]
  },
  {
   "cell_type": "code",
   "execution_count": 11,
   "metadata": {
    "collapsed": true
   },
   "outputs": [],
   "source": [
    "import pandas as pd\n",
    "import os\n",
    "import seaborn as sns\n",
    "import matplotlib.pyplot as plt\n",
    "import matplotlib as mpl\n",
    "%matplotlib inline\n",
    "import numpy as np\n",
    "from tqdm import tqdm\n",
    "from tqdm import trange\n",
    "from sklearn.metrics import roc_auc_score, roc_curve\n",
    "import time\n",
    "import pickle\n",
    "from sklearn.preprocessing import MinMaxScaler\n",
    "import itertools # iterations creator"
   ]
  },
  {
   "cell_type": "code",
   "execution_count": 12,
   "metadata": {
    "collapsed": true
   },
   "outputs": [],
   "source": [
    "data = pd.read_csv('..\\\\dataset_ver1.csv')"
   ]
  },
  {
   "cell_type": "markdown",
   "metadata": {},
   "source": [
    "# PreProcess\n",
    "### Create dataset"
   ]
  },
  {
   "cell_type": "markdown",
   "metadata": {},
   "source": [
    "Unlike in Bayesian case, neural network input should contain as much continuos values as possible"
   ]
  },
  {
   "cell_type": "code",
   "execution_count": 20,
   "metadata": {
    "collapsed": true
   },
   "outputs": [],
   "source": [
    "data.sort_values('date',ascending=True, inplace=True)"
   ]
  },
  {
   "cell_type": "code",
   "execution_count": 21,
   "metadata": {
    "collapsed": true
   },
   "outputs": [],
   "source": [
    "dataset = data[[u'action_type', \n",
    "                u'minutes_remaining', u'period', u'seconds_remaining', \n",
    "                u'shot_distance', u'shot_made_flag',u'shot_zone_area', \n",
    "                u'loc_x', u'loc_y', \n",
    "                u'shot_zone_basic', u'shot_zone_range',  u'shot_type', \n",
    "                u'position', u'season', u'is_home']]"
   ]
  },
  {
   "cell_type": "markdown",
   "metadata": {},
   "source": [
    "### Filter outlier periods"
   ]
  },
  {
   "cell_type": "code",
   "execution_count": 22,
   "metadata": {
    "collapsed": true
   },
   "outputs": [],
   "source": [
    "dataset = dataset[dataset.period <=4] ### 4 and not 5 this time"
   ]
  },
  {
   "cell_type": "markdown",
   "metadata": {},
   "source": [
    "### Label "
   ]
  },
  {
   "cell_type": "code",
   "execution_count": 23,
   "metadata": {
    "collapsed": true
   },
   "outputs": [],
   "source": [
    "dataset.rename(columns={'shot_made_flag' : 'label'}, inplace=True)"
   ]
  },
  {
   "cell_type": "markdown",
   "metadata": {},
   "source": [
    "### Position"
   ]
  },
  {
   "cell_type": "code",
   "execution_count": 24,
   "metadata": {
    "collapsed": true
   },
   "outputs": [],
   "source": [
    "def transpos(position):\n",
    "    '''transfers position to numeric value (10-50)'''\n",
    "    dic = {'Guard':15, 'Center':50, 'Forward':40, 'Guard-Forward':22, 'Center-Forward':48,\n",
    "       'Forward-Center':42, 'Forward-Guard':28}\n",
    "    return dic[position]"
   ]
  },
  {
   "cell_type": "code",
   "execution_count": 25,
   "metadata": {
    "collapsed": true
   },
   "outputs": [],
   "source": [
    "dataset['numpos'] = dataset.position.apply(transpos)"
   ]
  },
  {
   "cell_type": "markdown",
   "metadata": {},
   "source": [
    "### Angle feature"
   ]
  },
  {
   "cell_type": "code",
   "execution_count": 26,
   "metadata": {
    "collapsed": true
   },
   "outputs": [],
   "source": [
    "dataset['angle'] = dataset.apply(lambda x: np.arctan(x.loc_y*1.0/(x.loc_x+0.001)), axis = 1)"
   ]
  },
  {
   "cell_type": "markdown",
   "metadata": {},
   "source": [
    "### Shot type feature"
   ]
  },
  {
   "cell_type": "code",
   "execution_count": 27,
   "metadata": {
    "collapsed": true
   },
   "outputs": [],
   "source": [
    "for index, row in dataset.iterrows():\n",
    "    ls_words = row['action_type'].split(' ')\n",
    "    for wd in ls_words:\n",
    "        dataset.set_value(index,wd ,1)"
   ]
  },
  {
   "cell_type": "code",
   "execution_count": 28,
   "metadata": {
    "collapsed": true
   },
   "outputs": [],
   "source": [
    "dataset = dataset.fillna(0)"
   ]
  },
  {
   "cell_type": "code",
   "execution_count": 29,
   "metadata": {
    "collapsed": true
   },
   "outputs": [],
   "source": [
    "new_dset = dataset[[ u'minutes_remaining', u'period', u'seconds_remaining',\n",
    "       u'shot_distance', u'label', u'loc_x', u'loc_y',\n",
    "       u'season', u'is_home', u'numpos', u'angle', u'Driving', u'No', u'Tip', u'Turnaround', u'Finger',\n",
    "       u'Pullup', u'Roll', u'Running', u'Dunk', u'Putback', u'Pull-Up',\n",
    "       u'Layup', u'Step', u'Cutting', u'Bank', u'Reverse', u'Fadeaway',\n",
    "       u'Back', u'Alley', u'Jump', u'Hook', u'Slam', u'Floating', u'Oop']]"
   ]
  },
  {
   "cell_type": "code",
   "execution_count": 30,
   "metadata": {},
   "outputs": [
    {
     "data": {
      "text/plain": [
       "(406630, 35)"
      ]
     },
     "execution_count": 30,
     "metadata": {},
     "output_type": "execute_result"
    }
   ],
   "source": [
    "new_dset.shape"
   ]
  },
  {
   "cell_type": "markdown",
   "metadata": {},
   "source": [
    "## Scale data using Min-Max Scaling between 0-1"
   ]
  },
  {
   "cell_type": "code",
   "execution_count": 14,
   "metadata": {},
   "outputs": [
    {
     "data": {
      "text/html": [
       "<div>\n",
       "<table border=\"1\" class=\"dataframe\">\n",
       "  <thead>\n",
       "    <tr style=\"text-align: right;\">\n",
       "      <th></th>\n",
       "      <th>minutes_remaining</th>\n",
       "      <th>period</th>\n",
       "      <th>seconds_remaining</th>\n",
       "      <th>shot_distance</th>\n",
       "      <th>label</th>\n",
       "      <th>loc_x</th>\n",
       "      <th>loc_y</th>\n",
       "      <th>season</th>\n",
       "      <th>is_home</th>\n",
       "      <th>numpos</th>\n",
       "      <th>...</th>\n",
       "      <th>Bank</th>\n",
       "      <th>Reverse</th>\n",
       "      <th>Fadeaway</th>\n",
       "      <th>Back</th>\n",
       "      <th>Alley</th>\n",
       "      <th>Jump</th>\n",
       "      <th>Hook</th>\n",
       "      <th>Slam</th>\n",
       "      <th>Floating</th>\n",
       "      <th>Oop</th>\n",
       "    </tr>\n",
       "  </thead>\n",
       "  <tbody>\n",
       "    <tr>\n",
       "      <th>count</th>\n",
       "      <td>406630.000000</td>\n",
       "      <td>406630.000000</td>\n",
       "      <td>406630.000000</td>\n",
       "      <td>406630.000000</td>\n",
       "      <td>406630.000000</td>\n",
       "      <td>406630.000000</td>\n",
       "      <td>406630.000000</td>\n",
       "      <td>406630.000000</td>\n",
       "      <td>406630.000000</td>\n",
       "      <td>406630.000000</td>\n",
       "      <td>...</td>\n",
       "      <td>406630.000000</td>\n",
       "      <td>406630.000000</td>\n",
       "      <td>406630.000000</td>\n",
       "      <td>406630.000000</td>\n",
       "      <td>406630.000000</td>\n",
       "      <td>406630.000000</td>\n",
       "      <td>406630.000000</td>\n",
       "      <td>406630.000000</td>\n",
       "      <td>406630.000000</td>\n",
       "      <td>406630.000000</td>\n",
       "    </tr>\n",
       "    <tr>\n",
       "      <th>mean</th>\n",
       "      <td>0.446306</td>\n",
       "      <td>0.486850</td>\n",
       "      <td>0.487648</td>\n",
       "      <td>0.144109</td>\n",
       "      <td>0.452045</td>\n",
       "      <td>0.497957</td>\n",
       "      <td>0.145621</td>\n",
       "      <td>0.512867</td>\n",
       "      <td>0.500096</td>\n",
       "      <td>0.430878</td>\n",
       "      <td>...</td>\n",
       "      <td>0.020124</td>\n",
       "      <td>0.018073</td>\n",
       "      <td>0.021024</td>\n",
       "      <td>0.018152</td>\n",
       "      <td>0.011209</td>\n",
       "      <td>0.649664</td>\n",
       "      <td>0.038312</td>\n",
       "      <td>0.006293</td>\n",
       "      <td>0.026648</td>\n",
       "      <td>0.011209</td>\n",
       "    </tr>\n",
       "    <tr>\n",
       "      <th>std</th>\n",
       "      <td>0.287715</td>\n",
       "      <td>0.372832</td>\n",
       "      <td>0.295821</td>\n",
       "      <td>0.115735</td>\n",
       "      <td>0.497696</td>\n",
       "      <td>0.219723</td>\n",
       "      <td>0.097717</td>\n",
       "      <td>0.499835</td>\n",
       "      <td>0.500001</td>\n",
       "      <td>0.389321</td>\n",
       "      <td>...</td>\n",
       "      <td>0.140424</td>\n",
       "      <td>0.133215</td>\n",
       "      <td>0.143465</td>\n",
       "      <td>0.133500</td>\n",
       "      <td>0.105279</td>\n",
       "      <td>0.477076</td>\n",
       "      <td>0.191950</td>\n",
       "      <td>0.079080</td>\n",
       "      <td>0.161054</td>\n",
       "      <td>0.105279</td>\n",
       "    </tr>\n",
       "    <tr>\n",
       "      <th>min</th>\n",
       "      <td>0.000000</td>\n",
       "      <td>0.000000</td>\n",
       "      <td>0.000000</td>\n",
       "      <td>0.000000</td>\n",
       "      <td>0.000000</td>\n",
       "      <td>0.000000</td>\n",
       "      <td>0.000000</td>\n",
       "      <td>0.000000</td>\n",
       "      <td>0.000000</td>\n",
       "      <td>0.000000</td>\n",
       "      <td>...</td>\n",
       "      <td>0.000000</td>\n",
       "      <td>0.000000</td>\n",
       "      <td>0.000000</td>\n",
       "      <td>0.000000</td>\n",
       "      <td>0.000000</td>\n",
       "      <td>0.000000</td>\n",
       "      <td>0.000000</td>\n",
       "      <td>0.000000</td>\n",
       "      <td>0.000000</td>\n",
       "      <td>0.000000</td>\n",
       "    </tr>\n",
       "    <tr>\n",
       "      <th>25%</th>\n",
       "      <td>0.166667</td>\n",
       "      <td>0.000000</td>\n",
       "      <td>0.237288</td>\n",
       "      <td>0.023256</td>\n",
       "      <td>0.000000</td>\n",
       "      <td>0.394000</td>\n",
       "      <td>0.063947</td>\n",
       "      <td>0.000000</td>\n",
       "      <td>0.000000</td>\n",
       "      <td>0.000000</td>\n",
       "      <td>...</td>\n",
       "      <td>0.000000</td>\n",
       "      <td>0.000000</td>\n",
       "      <td>0.000000</td>\n",
       "      <td>0.000000</td>\n",
       "      <td>0.000000</td>\n",
       "      <td>0.000000</td>\n",
       "      <td>0.000000</td>\n",
       "      <td>0.000000</td>\n",
       "      <td>0.000000</td>\n",
       "      <td>0.000000</td>\n",
       "    </tr>\n",
       "    <tr>\n",
       "      <th>50%</th>\n",
       "      <td>0.416667</td>\n",
       "      <td>0.333333</td>\n",
       "      <td>0.491525</td>\n",
       "      <td>0.151163</td>\n",
       "      <td>0.000000</td>\n",
       "      <td>0.500000</td>\n",
       "      <td>0.101433</td>\n",
       "      <td>1.000000</td>\n",
       "      <td>1.000000</td>\n",
       "      <td>0.714286</td>\n",
       "      <td>...</td>\n",
       "      <td>0.000000</td>\n",
       "      <td>0.000000</td>\n",
       "      <td>0.000000</td>\n",
       "      <td>0.000000</td>\n",
       "      <td>0.000000</td>\n",
       "      <td>1.000000</td>\n",
       "      <td>0.000000</td>\n",
       "      <td>0.000000</td>\n",
       "      <td>0.000000</td>\n",
       "      <td>0.000000</td>\n",
       "    </tr>\n",
       "    <tr>\n",
       "      <th>75%</th>\n",
       "      <td>0.666667</td>\n",
       "      <td>0.666667</td>\n",
       "      <td>0.745763</td>\n",
       "      <td>0.267442</td>\n",
       "      <td>1.000000</td>\n",
       "      <td>0.600000</td>\n",
       "      <td>0.228225</td>\n",
       "      <td>1.000000</td>\n",
       "      <td>1.000000</td>\n",
       "      <td>0.714286</td>\n",
       "      <td>...</td>\n",
       "      <td>0.000000</td>\n",
       "      <td>0.000000</td>\n",
       "      <td>0.000000</td>\n",
       "      <td>0.000000</td>\n",
       "      <td>0.000000</td>\n",
       "      <td>1.000000</td>\n",
       "      <td>0.000000</td>\n",
       "      <td>0.000000</td>\n",
       "      <td>0.000000</td>\n",
       "      <td>0.000000</td>\n",
       "    </tr>\n",
       "    <tr>\n",
       "      <th>max</th>\n",
       "      <td>1.000000</td>\n",
       "      <td>1.000000</td>\n",
       "      <td>1.000000</td>\n",
       "      <td>1.000000</td>\n",
       "      <td>1.000000</td>\n",
       "      <td>1.000000</td>\n",
       "      <td>1.000000</td>\n",
       "      <td>1.000000</td>\n",
       "      <td>1.000000</td>\n",
       "      <td>1.000000</td>\n",
       "      <td>...</td>\n",
       "      <td>1.000000</td>\n",
       "      <td>1.000000</td>\n",
       "      <td>1.000000</td>\n",
       "      <td>1.000000</td>\n",
       "      <td>1.000000</td>\n",
       "      <td>1.000000</td>\n",
       "      <td>1.000000</td>\n",
       "      <td>1.000000</td>\n",
       "      <td>1.000000</td>\n",
       "      <td>1.000000</td>\n",
       "    </tr>\n",
       "  </tbody>\n",
       "</table>\n",
       "<p>8 rows × 35 columns</p>\n",
       "</div>"
      ],
      "text/plain": [
       "       minutes_remaining         period  seconds_remaining  shot_distance  \\\n",
       "count      406630.000000  406630.000000      406630.000000  406630.000000   \n",
       "mean            0.446306       0.486850           0.487648       0.144109   \n",
       "std             0.287715       0.372832           0.295821       0.115735   \n",
       "min             0.000000       0.000000           0.000000       0.000000   \n",
       "25%             0.166667       0.000000           0.237288       0.023256   \n",
       "50%             0.416667       0.333333           0.491525       0.151163   \n",
       "75%             0.666667       0.666667           0.745763       0.267442   \n",
       "max             1.000000       1.000000           1.000000       1.000000   \n",
       "\n",
       "               label          loc_x          loc_y         season  \\\n",
       "count  406630.000000  406630.000000  406630.000000  406630.000000   \n",
       "mean        0.452045       0.497957       0.145621       0.512867   \n",
       "std         0.497696       0.219723       0.097717       0.499835   \n",
       "min         0.000000       0.000000       0.000000       0.000000   \n",
       "25%         0.000000       0.394000       0.063947       0.000000   \n",
       "50%         0.000000       0.500000       0.101433       1.000000   \n",
       "75%         1.000000       0.600000       0.228225       1.000000   \n",
       "max         1.000000       1.000000       1.000000       1.000000   \n",
       "\n",
       "             is_home         numpos      ...                 Bank  \\\n",
       "count  406630.000000  406630.000000      ...        406630.000000   \n",
       "mean        0.500096       0.430878      ...             0.020124   \n",
       "std         0.500001       0.389321      ...             0.140424   \n",
       "min         0.000000       0.000000      ...             0.000000   \n",
       "25%         0.000000       0.000000      ...             0.000000   \n",
       "50%         1.000000       0.714286      ...             0.000000   \n",
       "75%         1.000000       0.714286      ...             0.000000   \n",
       "max         1.000000       1.000000      ...             1.000000   \n",
       "\n",
       "             Reverse       Fadeaway           Back          Alley  \\\n",
       "count  406630.000000  406630.000000  406630.000000  406630.000000   \n",
       "mean        0.018073       0.021024       0.018152       0.011209   \n",
       "std         0.133215       0.143465       0.133500       0.105279   \n",
       "min         0.000000       0.000000       0.000000       0.000000   \n",
       "25%         0.000000       0.000000       0.000000       0.000000   \n",
       "50%         0.000000       0.000000       0.000000       0.000000   \n",
       "75%         0.000000       0.000000       0.000000       0.000000   \n",
       "max         1.000000       1.000000       1.000000       1.000000   \n",
       "\n",
       "                Jump           Hook           Slam       Floating  \\\n",
       "count  406630.000000  406630.000000  406630.000000  406630.000000   \n",
       "mean        0.649664       0.038312       0.006293       0.026648   \n",
       "std         0.477076       0.191950       0.079080       0.161054   \n",
       "min         0.000000       0.000000       0.000000       0.000000   \n",
       "25%         0.000000       0.000000       0.000000       0.000000   \n",
       "50%         1.000000       0.000000       0.000000       0.000000   \n",
       "75%         1.000000       0.000000       0.000000       0.000000   \n",
       "max         1.000000       1.000000       1.000000       1.000000   \n",
       "\n",
       "                 Oop  \n",
       "count  406630.000000  \n",
       "mean        0.011209  \n",
       "std         0.105279  \n",
       "min         0.000000  \n",
       "25%         0.000000  \n",
       "50%         0.000000  \n",
       "75%         0.000000  \n",
       "max         1.000000  \n",
       "\n",
       "[8 rows x 35 columns]"
      ]
     },
     "execution_count": 14,
     "metadata": {},
     "output_type": "execute_result"
    }
   ],
   "source": [
    "'''transfrom all features valuse to scale between 0 and 1 using Min-Max'''\n",
    "from sklearn.preprocessing import MinMaxScaler\n",
    "scaler = MinMaxScaler()\n",
    "minmax_new_dset = pd.DataFrame(scaler.fit_transform(new_dset), columns=new_dset.columns)\n",
    "minmax_new_dset.describe()"
   ]
  },
  {
   "cell_type": "markdown",
   "metadata": {},
   "source": [
    "We tried to normalize the data to mean 0 and std 1, poor results due to redundant of binary variables"
   ]
  },
  {
   "cell_type": "raw",
   "metadata": {},
   "source": [
    "# N(0,1) scaler - not good for binary features and labels\n",
    "from sklearn.preprocessing import StandardScaler\n",
    "norm = StandardScaler()\n",
    "norm_new_dset = pd.DataFrame(norm.fit_transform(new_dset), columns=new_dset.columns)\n",
    "norm_new_dset.describe()"
   ]
  },
  {
   "cell_type": "markdown",
   "metadata": {},
   "source": [
    "#### Save preprocessed data to csv:"
   ]
  },
  {
   "cell_type": "code",
   "execution_count": 15,
   "metadata": {
    "collapsed": true
   },
   "outputs": [],
   "source": [
    "'''this saving is in order to reduce pre process time '''\n",
    "minmax_new_dset.to_csv(os.getcwd()+'\\\\minmax.csv',index=False)"
   ]
  },
  {
   "cell_type": "markdown",
   "metadata": {},
   "source": [
    "#### Load preprocesses csv:"
   ]
  },
  {
   "cell_type": "code",
   "execution_count": 16,
   "metadata": {
    "collapsed": true
   },
   "outputs": [],
   "source": [
    "minmax_new_dset = pd.read_csv(os.getcwd()+'\\\\minmax.csv')"
   ]
  },
  {
   "cell_type": "markdown",
   "metadata": {},
   "source": [
    "## Divide the data to train , validation and test"
   ]
  },
  {
   "cell_type": "code",
   "execution_count": 17,
   "metadata": {
    "collapsed": true
   },
   "outputs": [],
   "source": [
    "TrainProp=0.7 #0.7\n",
    "validationsize = 0.1\n",
    "train=minmax_new_dset.sample(frac=TrainProp,random_state=200)\n",
    "test=minmax_new_dset.drop(train.index)\n",
    "validation = test.sample(frac=validationsize/(1.0-TrainProp),random_state=200)\n",
    "test=test.drop(validation.index)"
   ]
  },
  {
   "cell_type": "code",
   "execution_count": 18,
   "metadata": {},
   "outputs": [
    {
     "data": {
      "text/plain": [
       "((284641, 35), (40663, 35), (81326, 35))"
      ]
     },
     "execution_count": 18,
     "metadata": {},
     "output_type": "execute_result"
    }
   ],
   "source": [
    "train.shape, validation.shape, test.shape"
   ]
  },
  {
   "cell_type": "markdown",
   "metadata": {},
   "source": [
    "# Model"
   ]
  },
  {
   "cell_type": "markdown",
   "metadata": {},
   "source": [
    "# Part2  - SGD code"
   ]
  },
  {
   "cell_type": "code",
   "execution_count": 19,
   "metadata": {
    "collapsed": true
   },
   "outputs": [],
   "source": [
    "'''defining energy function (error function) logloss'''\n",
    "def logloss(Y,Z, deriv=False):\n",
    "    if deriv:\n",
    "        return -Y*1.0/Z + (1.0-Y)/(1-Z)\n",
    "    else:\n",
    "        return -Y*np.log(Z) - (1-Y)*np.log(1-Z)"
   ]
  },
  {
   "cell_type": "code",
   "execution_count": 20,
   "metadata": {
    "collapsed": true,
    "scrolled": true
   },
   "outputs": [],
   "source": [
    "def quadloss(Y,Z, deriv=False):\n",
    "    if deriv:\n",
    "        return (Z-Y)\n",
    "    else:\n",
    "        return 0.5*((Z-Y)**2)"
   ]
  },
  {
   "cell_type": "code",
   "execution_count": 21,
   "metadata": {
    "collapsed": true
   },
   "outputs": [],
   "source": [
    "'''defining activation function'''\n",
    "def sigmoid(x):\n",
    "    ''' sigmoid function'''\n",
    "    output = 1/(1+np.exp(-x))\n",
    "    return output\n",
    "\n",
    "def sigmoid_derivative(output):\n",
    "    return output*(1-output)"
   ]
  },
  {
   "cell_type": "code",
   "execution_count": 22,
   "metadata": {
    "collapsed": true
   },
   "outputs": [],
   "source": [
    "def nnet_structure_init(in_list, bias = True, randrange = 1.0):\n",
    "    ''' takes as input list of neurons in each layer, output will be list of synapses (matrices)'''\n",
    "    net = []\n",
    "    # in_list where in_list[0] is the input layer, in+list[-1] is the output layer\n",
    "    for l in range(len(in_list)-1):\n",
    "        syn = 2.0*randrange*np.random.random((in_list[l]+int(bias),in_list[l+1])) -randrange*1.0\n",
    "        net.append(syn)\n",
    "    return net"
   ]
  },
  {
   "cell_type": "code",
   "execution_count": 23,
   "metadata": {
    "collapsed": true
   },
   "outputs": [],
   "source": [
    "def nnet_run(net, X, Y, epochs=50000, alpha =0.01, bias=True, batchsize = 200, diminish=1.0, prints=0.1, loss=quadloss, goal_error = 0.1):\n",
    "    '''takes net structure and run the X and Y (batches) on it epochs times, return update net'''\n",
    "    errors = [] # errors values via the run\n",
    "    pbar = xrange(iterations)\n",
    "    for j in pbar:\n",
    "        sample_idx = np.random.randint(low=0, high=X.shape[0], size=batchsize)\n",
    "        Xn = X[sample_idx,:]\n",
    "        Yn = Y[sample_idx,:]\n",
    "        \n",
    "        # feed forward\n",
    "        l = [Xn] # first layer value = input\n",
    "        for i in range(len(net)): #feed forward via synapses\n",
    "            if bias: # add vector of -1s to current layer (all except last layer)\n",
    "                l[-1] = np.concatenate((l[-1],-1*np.ones((l[-1].shape[0],1))), axis=1)\n",
    "            l.append(sigmoid(np.dot(l[i],net[i])))\n",
    "\n",
    "        # Cost - error function\n",
    "        err = loss(Yn,l[-1], deriv=True) # deriv of error cost - d the output and label\n",
    "        realerr= loss(Yn,l[-1], deriv=False)\n",
    "        errors.append(np.mean(np.abs(realerr)))\n",
    "        \n",
    "        if j%int(epochs*0.01)==0.0:\n",
    "            err_to_print = np.mean(errors[max(-100,-len(errors)):])\n",
    "            if err_to_print<=goal_error:\n",
    "                print \"Stopped with error (overfitting):\" ,err_to_print\n",
    "                break # stop condition\n",
    "        if j%int(epochs*prints)==0.0:\n",
    "            err_to_print = np.mean(errors[max(-100,-len(errors)):])\n",
    "            print \"Epoch:\",j,\"Error:\", str(err_to_print),time.ctime()\n",
    "#             pbar.set_description('epoch: '+str(j)+' error: '+str(round(np.mean(np.abs(err)),3)))\n",
    "        \n",
    "        #back-propagation\n",
    "        for i in range(len(net),0,-1): # run over synapses backwards\n",
    "            delta = err*sigmoid_derivative(l[i]) # delta in i synapses\n",
    "            if i<=len(net)-1 and bias:\n",
    "                delta = np.delete(delta,-1,axis=1) # remove bias row from synapses matrix\n",
    "            # print 'i',i, 'error:',error.shape,'delta:',delta.shape, 'net',net[i-1].shape\n",
    "            err = delta.dot(net[i-1].T)\n",
    "            net[i-1] -= alpha*l[i-1].T.dot(delta) # update synapse\n",
    "        # diminishing alpha\n",
    "        alpha = alpha*diminish\n",
    "    return net, errors\n"
   ]
  },
  {
   "cell_type": "code",
   "execution_count": 24,
   "metadata": {
    "collapsed": true
   },
   "outputs": [],
   "source": [
    "def predict(X,net,bias = True):\n",
    "    'return the prediction'\n",
    "    l = [X] # first layer value = input\n",
    "    for i in range(len(net)): #feed forward via synapses\n",
    "        if bias: # add vector of -1s to current layer (all except last layer)\n",
    "            l[-1] = np.concatenate((l[-1],-1*np.ones((l[-1].shape[0],1))), axis=1)\n",
    "        l.append(sigmoid(np.dot(l[i],net[i])))\n",
    "    return l[-1]"
   ]
  },
  {
   "cell_type": "code",
   "execution_count": 25,
   "metadata": {
    "collapsed": true
   },
   "outputs": [],
   "source": [
    "# plot error\n",
    "def plot_error(alphas,errorlists,smooth=1):\n",
    "    fig  = plt.figure()\n",
    "    for a in range(len(alphas)):\n",
    "        iterations = len(errorlists[a])\n",
    "        err =[]\n",
    "        for i in range(len(errorlists[a])):\n",
    "            err.append(np.mean((errorlists[a][max(0,i-smooth):i])))\n",
    "        ax =plt.plot(range(iterations),err)\n",
    "    plt.title('Errorrate over epochs')\n",
    "    plt.ylim([0,1.1])\n",
    "    plt.xlim(-0.02*iterations,iterations)\n",
    "    leg = plt.legend(map(lambda x: 'alpha: '+str(x),alphas))\n",
    "    return fig"
   ]
  },
  {
   "cell_type": "code",
   "execution_count": 26,
   "metadata": {
    "collapsed": true
   },
   "outputs": [],
   "source": [
    "#plot ROC\n",
    "def plot_ROC(nets,alphas,X,Y, bias = True, title =\"\"):\n",
    "    AUC = []\n",
    "    fig2  = plt.figure()\n",
    "    for net in nets:\n",
    "        y_true ,y_scores = Y,  predict(X,net, bias = bias)\n",
    "        fpr, tpr, _ = roc_curve(y_true.ravel(), y_scores.ravel())\n",
    "        AUC.append(roc_auc_score(y_true, y_scores))\n",
    "        plt.xlim([-0.02,1.01])\n",
    "        plt.ylim([-0.01,1.02])\n",
    "        ax =plt.plot(fpr, tpr)\n",
    "    leg = zip(alphas,AUC)\n",
    "    plt.title(title)\n",
    "    l = plt.legend(map(lambda x: 'params: '+str(x[0])+' AUC:'+str(round(x[1],3)),leg), loc = 4)\n",
    "    return fig2, AUC"
   ]
  },
  {
   "cell_type": "markdown",
   "metadata": {},
   "source": [
    "## Our data"
   ]
  },
  {
   "cell_type": "code",
   "execution_count": 35,
   "metadata": {},
   "outputs": [
    {
     "name": "stdout",
     "output_type": "stream",
     "text": [
      "(284641L, 34L) (284641L, 1L)\n",
      "Epoch: 0 Error: 0.166902801808 Sat Dec 24 11:29:05 2016\n",
      "Epoch: 50000 Error: 0.109513511862 Sat Dec 24 11:30:44 2016\n",
      "Epoch: 100000 Error: 0.110343921349 Sat Dec 24 11:32:22 2016\n",
      "Epoch: 150000 Error: 0.109679935241 Sat Dec 24 11:33:59 2016\n",
      "Epoch: 200000 Error: 0.109039794289 Sat Dec 24 11:35:42 2016\n",
      "Epoch: 250000 Error: 0.108642935552 Sat Dec 24 11:37:24 2016\n",
      "Epoch: 300000 Error: 0.108892606268 Sat Dec 24 11:39:05 2016\n",
      "Epoch: 350000 Error: 0.108557350238 Sat Dec 24 11:40:47 2016\n",
      "Epoch: 400000 Error: 0.107917730631 Sat Dec 24 11:42:25 2016\n",
      "Epoch: 450000 Error: 0.107649255071 Sat Dec 24 11:44:09 2016\n"
     ]
    }
   ],
   "source": [
    "np.random.seed(777) # note the seed here\n",
    "\n",
    "trainsize = 284641\n",
    "B = True\n",
    "iterations = 500000 \n",
    "batchsize=500\n",
    "prints=0.1\n",
    "diminish=1.0\n",
    "alpha=0.001\n",
    "\n",
    "trainsize = min(trainsize,train.shape[0])\n",
    "samp =  train.sample(trainsize)\n",
    "cols = samp.columns.drop('label')\n",
    "X = np.array(samp[cols])\n",
    "Y = np.array(samp[['label']])\n",
    "\n",
    "# loss, goal  = logloss, 0.2\n",
    "loss,goal = quadloss, 0.02\n",
    "\n",
    "\n",
    "print X.shape, Y.shape\n",
    "\n",
    "inputSize = X.shape[1]\n",
    "structure = [inputSize,50,35,1]\n",
    "\n",
    "net = nnet_structure_init(structure, bias = B)\n",
    "newnet,errors = nnet_run(net, X, Y, epochs=iterations, alpha=alpha, bias=B,\n",
    "                         batchsize=batchsize, prints=prints, diminish=diminish, loss=loss, goal_error=goal)"
   ]
  },
  {
   "cell_type": "markdown",
   "metadata": {},
   "source": [
    "### Saving network object"
   ]
  },
  {
   "cell_type": "code",
   "execution_count": 36,
   "metadata": {
    "collapsed": true
   },
   "outputs": [],
   "source": [
    "netobj = {'params':(trainsize,B,iterations,structure,alpha,batchsize), 'net':newnet, 'errors' : errors}\n",
    "netobj['desc']= 'Tsize=%s_Bias=%s_iter=%s_struct=%s_alpha=%s_batch=%s'%netobj['params']\n",
    "netobj['name'] = ('ANN SGD '+netobj['desc']+' '+time.ctime()).replace(' ','_').replace(',',\"_\").replace(':','_')"
   ]
  },
  {
   "cell_type": "markdown",
   "metadata": {
    "collapsed": true
   },
   "source": [
    "### save the networks to pickle file "
   ]
  },
  {
   "cell_type": "code",
   "execution_count": 37,
   "metadata": {
    "collapsed": true
   },
   "outputs": [],
   "source": [
    "pickle.dump( netobj, open( os.getcwd()+'\\\\pickles\\\\'+netobj['name']+'.pkl', \"wb\" ) )"
   ]
  },
  {
   "cell_type": "code",
   "execution_count": 38,
   "metadata": {
    "collapsed": true
   },
   "outputs": [],
   "source": [
    "# unpickle\n",
    "unpick = pickle.load(open( os.getcwd()+'\\\\pickles\\\\'+netobj['name']+'.pkl', \"rb\" ) )"
   ]
  },
  {
   "cell_type": "markdown",
   "metadata": {},
   "source": [
    "## Example network:"
   ]
  },
  {
   "cell_type": "markdown",
   "metadata": {},
   "source": [
    "### Training error"
   ]
  },
  {
   "cell_type": "code",
   "execution_count": 39,
   "metadata": {},
   "outputs": [
    {
     "data": {
      "image/png": "[encoded data removed]",
      "text/plain": [
       "<matplotlib.figure.Figure at 0x411e15f8>"
      ]
     },
     "metadata": {},
     "output_type": "display_data"
    },
    {
     "data": {
      "image/png": "[encoded data removed]",
      "text/plain": [
       "<matplotlib.figure.Figure at 0x411e1588>"
      ]
     },
     "metadata": {},
     "output_type": "display_data"
    }
   ],
   "source": [
    "fe = plot_error([netobj['params'][-3:]],[netobj['errors']], smooth=200)\n",
    "froc, AUC = plot_ROC([netobj['net']],[netobj['params'][-3:]],X,Y, bias = netobj['params'][1], title='ROC curve on trainning set')"
   ]
  },
  {
   "cell_type": "code",
   "execution_count": 40,
   "metadata": {
    "collapsed": true
   },
   "outputs": [],
   "source": [
    "fe.savefig(os.getcwd()+'\\\\figures\\\\'+'trainerror'+netobj['name']+'.pdf')\n",
    "froc.savefig(os.getcwd()+'\\\\figures\\\\'+'trainROC'+netobj['name']+'.pdf')"
   ]
  },
  {
   "cell_type": "markdown",
   "metadata": {},
   "source": [
    "### Validation"
   ]
  },
  {
   "cell_type": "code",
   "execution_count": 41,
   "metadata": {
    "scrolled": false
   },
   "outputs": [
    {
     "name": "stdout",
     "output_type": "stream",
     "text": [
      "ROC of Validation set\n"
     ]
    },
    {
     "data": {
      "image/png": "[encoded data removed]",
      "text/plain": [
       "<matplotlib.figure.Figure at 0x3ff0add8>"
      ]
     },
     "metadata": {},
     "output_type": "display_data"
    }
   ],
   "source": [
    "Xv = np.array(validation[cols])\n",
    "Yv = np.array(validation[['label']])\n",
    "print 'ROC of Validation set'\n",
    "fvroc, vAUC = plot_ROC([newnet],[0.01],Xv,Yv, bias = True, title=\"ROC curve on validation set\")\n",
    "fvroc.savefig(os.getcwd()+'\\\\figures\\\\'+'valROC'+netobj['name']+'.pdf')"
   ]
  },
  {
   "cell_type": "markdown",
   "metadata": {},
   "source": [
    "## Test performance (best configuration)"
   ]
  },
  {
   "cell_type": "code",
   "execution_count": 42,
   "metadata": {},
   "outputs": [
    {
     "name": "stdout",
     "output_type": "stream",
     "text": [
      "ROC of Test set\n"
     ]
    },
    {
     "data": {
      "image/png": "[encoded data removed]",
      "text/plain": [
       "<matplotlib.figure.Figure at 0x3ba8bb70>"
      ]
     },
     "metadata": {},
     "output_type": "display_data"
    }
   ],
   "source": [
    "Xv = np.array(test[cols])\n",
    "Yv = np.array(test[['label']])\n",
    "print 'ROC of Test set'\n",
    "fvroc, vAUC = plot_ROC([newnet],[0.01],Xv,Yv, bias = True)\n",
    "fvroc.savefig(os.getcwd()+'\\\\figures\\\\'+'valROC'+netobj['name']+'.pdf')"
   ]
  },
  {
   "cell_type": "markdown",
   "metadata": {},
   "source": [
    "# Results + Sensitivity analysis"
   ]
  },
  {
   "cell_type": "markdown",
   "metadata": {},
   "source": [
    "We ran multiple simulations of network structure on external server, and here is the comparison:"
   ]
  },
  {
   "cell_type": "code",
   "execution_count": 31,
   "metadata": {
    "collapsed": true
   },
   "outputs": [],
   "source": [
    "def from_folder(path):\n",
    "    dfs = [pd.read_csv(\"{}/{}\".format(path, filename)) for filename in os.listdir(path)]\n",
    "    df_ret = pd.concat(dfs)\n",
    "    return df_ret"
   ]
  },
  {
   "cell_type": "code",
   "execution_count": 32,
   "metadata": {
    "collapsed": true
   },
   "outputs": [],
   "source": [
    "res = from_folder(os.getcwd()+'\\\\results')\n",
    "res = res[res.columns[1:]]"
   ]
  },
  {
   "cell_type": "code",
   "execution_count": 33,
   "metadata": {
    "collapsed": true
   },
   "outputs": [],
   "source": [
    "def add_layers(row):\n",
    "    '''decdode layers structure, converts the proportions to numbers'''\n",
    "    hidden = [int(row[4])]\n",
    "    for l in row.index[5:8]:\n",
    "        if row[l]>0:\n",
    "            hidden.append(int(hidden[-1]*row[l]))\n",
    "    num = len(hidden)\n",
    "    hidden = hidden + (4-len(hidden))*[0]\n",
    "    row['hl2']=hidden[1]\n",
    "    row['hl3']=hidden[2]\n",
    "    row['hl4']=hidden[3]\n",
    "    row['nhl'] = num\n",
    "    row['hl12'] =str(int(row[4]))+' : '+str(hidden[1])\n",
    "    row['totalnodes'] = round(int(row[4])+sum(hidden[1:]),-1)\n",
    "    return row"
   ]
  },
  {
   "cell_type": "code",
   "execution_count": 34,
   "metadata": {
    "collapsed": true,
    "scrolled": true
   },
   "outputs": [],
   "source": [
    "results = res.apply(add_layers, axis = 1)\n",
    "res = results[[u'alpha', u'batch', u'trainsize', u'epochs', u'trainerror', u'TrainAUC', u'ValAUC',u'hl1', u'hl2',\n",
    "       u'hl3', u'hl4','nhl','hl12','totalnodes']]"
   ]
  },
  {
   "cell_type": "code",
   "execution_count": 36,
   "metadata": {},
   "outputs": [
    {
     "name": "stderr",
     "output_type": "stream",
     "text": [
      "C:\\Users\\22334\\AppData\\Local\\Continuum\\Anaconda2\\lib\\site-packages\\ipykernel_launcher.py:1: SettingWithCopyWarning: \n",
      "A value is trying to be set on a copy of a slice from a DataFrame.\n",
      "Try using .loc[row_indexer,col_indexer] = value instead\n",
      "\n",
      "See the caveats in the documentation: http://pandas.pydata.org/pandas-docs/stable/indexing.html#indexing-view-versus-copy\n",
      "  \"\"\"Entry point for launching an IPython kernel.\n"
     ]
    }
   ],
   "source": [
    "res['trainsize'] = res.trainsize.apply(lambda x:min(x,284641) )  # fixing max train size"
   ]
  },
  {
   "cell_type": "markdown",
   "metadata": {},
   "source": [
    "# By ALL"
   ]
  },
  {
   "cell_type": "code",
   "execution_count": 37,
   "metadata": {
    "scrolled": false
   },
   "outputs": [
    {
     "data": {
      "text/html": [
       "<div>\n",
       "<style>\n",
       "    .dataframe thead tr:only-child th {\n",
       "        text-align: right;\n",
       "    }\n",
       "\n",
       "    .dataframe thead th {\n",
       "        text-align: left;\n",
       "    }\n",
       "\n",
       "    .dataframe tbody tr th {\n",
       "        vertical-align: top;\n",
       "    }\n",
       "</style>\n",
       "<table border=\"1\" class=\"dataframe\">\n",
       "  <thead>\n",
       "    <tr style=\"text-align: right;\">\n",
       "      <th></th>\n",
       "      <th></th>\n",
       "      <th></th>\n",
       "      <th></th>\n",
       "      <th></th>\n",
       "      <th>TrainAUC</th>\n",
       "      <th>ValAUC</th>\n",
       "      <th>trainerror</th>\n",
       "    </tr>\n",
       "    <tr>\n",
       "      <th>trainsize</th>\n",
       "      <th>epochs</th>\n",
       "      <th>alpha</th>\n",
       "      <th>batch</th>\n",
       "      <th>nhl</th>\n",
       "      <th></th>\n",
       "      <th></th>\n",
       "      <th></th>\n",
       "    </tr>\n",
       "  </thead>\n",
       "  <tbody>\n",
       "    <tr>\n",
       "      <th rowspan=\"3\" valign=\"top\">2000.0</th>\n",
       "      <th rowspan=\"3\" valign=\"top\">100000.0</th>\n",
       "      <th rowspan=\"3\" valign=\"top\">0.010</th>\n",
       "      <th rowspan=\"3\" valign=\"top\">100.0</th>\n",
       "      <th>1</th>\n",
       "      <td>0.937295</td>\n",
       "      <td>0.580701</td>\n",
       "      <td>0.184723</td>\n",
       "    </tr>\n",
       "    <tr>\n",
       "      <th>2</th>\n",
       "      <td>0.967596</td>\n",
       "      <td>0.588763</td>\n",
       "      <td>0.059081</td>\n",
       "    </tr>\n",
       "    <tr>\n",
       "      <th>3</th>\n",
       "      <td>0.970596</td>\n",
       "      <td>0.573794</td>\n",
       "      <td>0.040359</td>\n",
       "    </tr>\n",
       "    <tr>\n",
       "      <th rowspan=\"15\" valign=\"top\">10000.0</th>\n",
       "      <th rowspan=\"12\" valign=\"top\">100000.0</th>\n",
       "      <th rowspan=\"6\" valign=\"top\">0.001</th>\n",
       "      <th rowspan=\"3\" valign=\"top\">500.0</th>\n",
       "      <th>2</th>\n",
       "      <td>0.711320</td>\n",
       "      <td>0.662602</td>\n",
       "      <td>0.423715</td>\n",
       "    </tr>\n",
       "    <tr>\n",
       "      <th>3</th>\n",
       "      <td>0.717361</td>\n",
       "      <td>0.658452</td>\n",
       "      <td>0.419068</td>\n",
       "    </tr>\n",
       "    <tr>\n",
       "      <th>4</th>\n",
       "      <td>0.711247</td>\n",
       "      <td>0.659917</td>\n",
       "      <td>0.423183</td>\n",
       "    </tr>\n",
       "    <tr>\n",
       "      <th rowspan=\"3\" valign=\"top\">2000.0</th>\n",
       "      <th>2</th>\n",
       "      <td>0.790554</td>\n",
       "      <td>0.617330</td>\n",
       "      <td>0.365937</td>\n",
       "    </tr>\n",
       "    <tr>\n",
       "      <th>3</th>\n",
       "      <td>0.802894</td>\n",
       "      <td>0.616669</td>\n",
       "      <td>0.348957</td>\n",
       "    </tr>\n",
       "    <tr>\n",
       "      <th>4</th>\n",
       "      <td>0.797318</td>\n",
       "      <td>0.620328</td>\n",
       "      <td>0.351209</td>\n",
       "    </tr>\n",
       "    <tr>\n",
       "      <th rowspan=\"6\" valign=\"top\">0.010</th>\n",
       "      <th rowspan=\"3\" valign=\"top\">500.0</th>\n",
       "      <th>2</th>\n",
       "      <td>0.858271</td>\n",
       "      <td>0.601985</td>\n",
       "      <td>0.279050</td>\n",
       "    </tr>\n",
       "    <tr>\n",
       "      <th>3</th>\n",
       "      <td>0.883176</td>\n",
       "      <td>0.589948</td>\n",
       "      <td>0.245486</td>\n",
       "    </tr>\n",
       "    <tr>\n",
       "      <th>4</th>\n",
       "      <td>0.887137</td>\n",
       "      <td>0.583062</td>\n",
       "      <td>0.258031</td>\n",
       "    </tr>\n",
       "    <tr>\n",
       "      <th rowspan=\"3\" valign=\"top\">2000.0</th>\n",
       "      <th>2</th>\n",
       "      <td>0.894404</td>\n",
       "      <td>0.588991</td>\n",
       "      <td>0.203615</td>\n",
       "    </tr>\n",
       "    <tr>\n",
       "      <th>3</th>\n",
       "      <td>0.912621</td>\n",
       "      <td>0.584070</td>\n",
       "      <td>0.189963</td>\n",
       "    </tr>\n",
       "    <tr>\n",
       "      <th>4</th>\n",
       "      <td>0.905081</td>\n",
       "      <td>0.581458</td>\n",
       "      <td>0.209198</td>\n",
       "    </tr>\n",
       "    <tr>\n",
       "      <th rowspan=\"3\" valign=\"top\">200000.0</th>\n",
       "      <th rowspan=\"3\" valign=\"top\">0.010</th>\n",
       "      <th rowspan=\"3\" valign=\"top\">50.0</th>\n",
       "      <th>2</th>\n",
       "      <td>0.725684</td>\n",
       "      <td>0.653059</td>\n",
       "      <td>0.414735</td>\n",
       "    </tr>\n",
       "    <tr>\n",
       "      <th>3</th>\n",
       "      <td>0.729642</td>\n",
       "      <td>0.649255</td>\n",
       "      <td>0.408992</td>\n",
       "    </tr>\n",
       "    <tr>\n",
       "      <th>4</th>\n",
       "      <td>0.718951</td>\n",
       "      <td>0.651138</td>\n",
       "      <td>0.412695</td>\n",
       "    </tr>\n",
       "    <tr>\n",
       "      <th rowspan=\"34\" valign=\"top\">284641.0</th>\n",
       "      <th rowspan=\"24\" valign=\"top\">50000.0</th>\n",
       "      <th rowspan=\"6\" valign=\"top\">0.010</th>\n",
       "      <th rowspan=\"3\" valign=\"top\">50.0</th>\n",
       "      <th>2</th>\n",
       "      <td>0.678835</td>\n",
       "      <td>0.676337</td>\n",
       "      <td>0.441563</td>\n",
       "    </tr>\n",
       "    <tr>\n",
       "      <th>3</th>\n",
       "      <td>0.675915</td>\n",
       "      <td>0.673522</td>\n",
       "      <td>0.441969</td>\n",
       "    </tr>\n",
       "    <tr>\n",
       "      <th>4</th>\n",
       "      <td>0.654088</td>\n",
       "      <td>0.652069</td>\n",
       "      <td>0.449293</td>\n",
       "    </tr>\n",
       "    <tr>\n",
       "      <th rowspan=\"3\" valign=\"top\">200.0</th>\n",
       "      <th>2</th>\n",
       "      <td>0.683707</td>\n",
       "      <td>0.681004</td>\n",
       "      <td>0.437802</td>\n",
       "    </tr>\n",
       "    <tr>\n",
       "      <th>3</th>\n",
       "      <td>0.682757</td>\n",
       "      <td>0.680202</td>\n",
       "      <td>0.438671</td>\n",
       "    </tr>\n",
       "    <tr>\n",
       "      <th>4</th>\n",
       "      <td>0.662264</td>\n",
       "      <td>0.659978</td>\n",
       "      <td>0.445064</td>\n",
       "    </tr>\n",
       "    <tr>\n",
       "      <th rowspan=\"9\" valign=\"top\">0.100</th>\n",
       "      <th rowspan=\"3\" valign=\"top\">50.0</th>\n",
       "      <th>2</th>\n",
       "      <td>0.684642</td>\n",
       "      <td>0.682060</td>\n",
       "      <td>0.435413</td>\n",
       "    </tr>\n",
       "    <tr>\n",
       "      <th>3</th>\n",
       "      <td>0.682864</td>\n",
       "      <td>0.680464</td>\n",
       "      <td>0.437941</td>\n",
       "    </tr>\n",
       "    <tr>\n",
       "      <th>4</th>\n",
       "      <td>0.661111</td>\n",
       "      <td>0.658867</td>\n",
       "      <td>0.444284</td>\n",
       "    </tr>\n",
       "    <tr>\n",
       "      <th rowspan=\"3\" valign=\"top\">200.0</th>\n",
       "      <th>2</th>\n",
       "      <td>0.689572</td>\n",
       "      <td>0.685964</td>\n",
       "      <td>0.433572</td>\n",
       "    </tr>\n",
       "    <tr>\n",
       "      <th>3</th>\n",
       "      <td>0.688925</td>\n",
       "      <td>0.685491</td>\n",
       "      <td>0.435300</td>\n",
       "    </tr>\n",
       "    <tr>\n",
       "      <th>4</th>\n",
       "      <td>0.666406</td>\n",
       "      <td>0.663468</td>\n",
       "      <td>0.440214</td>\n",
       "    </tr>\n",
       "    <tr>\n",
       "      <th rowspan=\"3\" valign=\"top\">2000.0</th>\n",
       "      <th>2</th>\n",
       "      <td>0.519607</td>\n",
       "      <td>0.519422</td>\n",
       "      <td>0.487840</td>\n",
       "    </tr>\n",
       "    <tr>\n",
       "      <th>3</th>\n",
       "      <td>0.499999</td>\n",
       "      <td>0.499990</td>\n",
       "      <td>0.481783</td>\n",
       "    </tr>\n",
       "    <tr>\n",
       "      <th>4</th>\n",
       "      <td>0.499998</td>\n",
       "      <td>0.500009</td>\n",
       "      <td>0.455657</td>\n",
       "    </tr>\n",
       "    <tr>\n",
       "      <th rowspan=\"9\" valign=\"top\">1.000</th>\n",
       "      <th rowspan=\"3\" valign=\"top\">50.0</th>\n",
       "      <th>2</th>\n",
       "      <td>0.661676</td>\n",
       "      <td>0.659024</td>\n",
       "      <td>0.442277</td>\n",
       "    </tr>\n",
       "    <tr>\n",
       "      <th>3</th>\n",
       "      <td>0.670741</td>\n",
       "      <td>0.669190</td>\n",
       "      <td>0.430938</td>\n",
       "    </tr>\n",
       "    <tr>\n",
       "      <th>4</th>\n",
       "      <td>0.645736</td>\n",
       "      <td>0.645785</td>\n",
       "      <td>0.436684</td>\n",
       "    </tr>\n",
       "    <tr>\n",
       "      <th rowspan=\"3\" valign=\"top\">200.0</th>\n",
       "      <th>2</th>\n",
       "      <td>0.500000</td>\n",
       "      <td>0.500000</td>\n",
       "      <td>0.505856</td>\n",
       "    </tr>\n",
       "    <tr>\n",
       "      <th>3</th>\n",
       "      <td>0.512222</td>\n",
       "      <td>0.512245</td>\n",
       "      <td>0.454890</td>\n",
       "    </tr>\n",
       "    <tr>\n",
       "      <th>4</th>\n",
       "      <td>0.512277</td>\n",
       "      <td>0.525013</td>\n",
       "      <td>0.461141</td>\n",
       "    </tr>\n",
       "    <tr>\n",
       "      <th rowspan=\"3\" valign=\"top\">2000.0</th>\n",
       "      <th>2</th>\n",
       "      <td>0.500000</td>\n",
       "      <td>0.500000</td>\n",
       "      <td>0.516213</td>\n",
       "    </tr>\n",
       "    <tr>\n",
       "      <th>3</th>\n",
       "      <td>0.500000</td>\n",
       "      <td>0.500000</td>\n",
       "      <td>0.495046</td>\n",
       "    </tr>\n",
       "    <tr>\n",
       "      <th>4</th>\n",
       "      <td>0.500000</td>\n",
       "      <td>0.500000</td>\n",
       "      <td>0.484051</td>\n",
       "    </tr>\n",
       "    <tr>\n",
       "      <th rowspan=\"3\" valign=\"top\">100000.0</th>\n",
       "      <th>0.001</th>\n",
       "      <th>400.0</th>\n",
       "      <th>2</th>\n",
       "      <td>0.682380</td>\n",
       "      <td>0.679462</td>\n",
       "      <td>0.440003</td>\n",
       "    </tr>\n",
       "    <tr>\n",
       "      <th rowspan=\"2\" valign=\"top\">0.010</th>\n",
       "      <th>400.0</th>\n",
       "      <th>2</th>\n",
       "      <td>0.690592</td>\n",
       "      <td>0.686327</td>\n",
       "      <td>0.433375</td>\n",
       "    </tr>\n",
       "    <tr>\n",
       "      <th>500.0</th>\n",
       "      <th>3</th>\n",
       "      <td>0.692772</td>\n",
       "      <td>0.687490</td>\n",
       "      <td>0.436187</td>\n",
       "    </tr>\n",
       "    <tr>\n",
       "      <th rowspan=\"6\" valign=\"top\">500000.0</th>\n",
       "      <th rowspan=\"3\" valign=\"top\">0.001</th>\n",
       "      <th rowspan=\"3\" valign=\"top\">500.0</th>\n",
       "      <th>2</th>\n",
       "      <td>0.692606</td>\n",
       "      <td>0.688206</td>\n",
       "      <td>0.432709</td>\n",
       "    </tr>\n",
       "    <tr>\n",
       "      <th>3</th>\n",
       "      <td>0.693053</td>\n",
       "      <td>0.688576</td>\n",
       "      <td>0.432228</td>\n",
       "    </tr>\n",
       "    <tr>\n",
       "      <th>4</th>\n",
       "      <td>0.692560</td>\n",
       "      <td>0.688390</td>\n",
       "      <td>0.432267</td>\n",
       "    </tr>\n",
       "    <tr>\n",
       "      <th rowspan=\"3\" valign=\"top\">0.010</th>\n",
       "      <th rowspan=\"3\" valign=\"top\">500.0</th>\n",
       "      <th>2</th>\n",
       "      <td>0.697578</td>\n",
       "      <td>0.687489</td>\n",
       "      <td>0.429204</td>\n",
       "    </tr>\n",
       "    <tr>\n",
       "      <th>3</th>\n",
       "      <td>0.698201</td>\n",
       "      <td>0.686889</td>\n",
       "      <td>0.428699</td>\n",
       "    </tr>\n",
       "    <tr>\n",
       "      <th>4</th>\n",
       "      <td>0.698381</td>\n",
       "      <td>0.687215</td>\n",
       "      <td>0.429035</td>\n",
       "    </tr>\n",
       "    <tr>\n",
       "      <th>10000000.0</th>\n",
       "      <th>0.010</th>\n",
       "      <th>1000.0</th>\n",
       "      <th>4</th>\n",
       "      <td>0.716502</td>\n",
       "      <td>0.664801</td>\n",
       "      <td>0.415642</td>\n",
       "    </tr>\n",
       "  </tbody>\n",
       "</table>\n",
       "</div>"
      ],
      "text/plain": [
       "                                       TrainAUC    ValAUC  trainerror\n",
       "trainsize epochs     alpha batch  nhl                                \n",
       "2000.0    100000.0   0.010 100.0  1    0.937295  0.580701    0.184723\n",
       "                                  2    0.967596  0.588763    0.059081\n",
       "                                  3    0.970596  0.573794    0.040359\n",
       "10000.0   100000.0   0.001 500.0  2    0.711320  0.662602    0.423715\n",
       "                                  3    0.717361  0.658452    0.419068\n",
       "                                  4    0.711247  0.659917    0.423183\n",
       "                           2000.0 2    0.790554  0.617330    0.365937\n",
       "                                  3    0.802894  0.616669    0.348957\n",
       "                                  4    0.797318  0.620328    0.351209\n",
       "                     0.010 500.0  2    0.858271  0.601985    0.279050\n",
       "                                  3    0.883176  0.589948    0.245486\n",
       "                                  4    0.887137  0.583062    0.258031\n",
       "                           2000.0 2    0.894404  0.588991    0.203615\n",
       "                                  3    0.912621  0.584070    0.189963\n",
       "                                  4    0.905081  0.581458    0.209198\n",
       "          200000.0   0.010 50.0   2    0.725684  0.653059    0.414735\n",
       "                                  3    0.729642  0.649255    0.408992\n",
       "                                  4    0.718951  0.651138    0.412695\n",
       "284641.0  50000.0    0.010 50.0   2    0.678835  0.676337    0.441563\n",
       "                                  3    0.675915  0.673522    0.441969\n",
       "                                  4    0.654088  0.652069    0.449293\n",
       "                           200.0  2    0.683707  0.681004    0.437802\n",
       "                                  3    0.682757  0.680202    0.438671\n",
       "                                  4    0.662264  0.659978    0.445064\n",
       "                     0.100 50.0   2    0.684642  0.682060    0.435413\n",
       "                                  3    0.682864  0.680464    0.437941\n",
       "                                  4    0.661111  0.658867    0.444284\n",
       "                           200.0  2    0.689572  0.685964    0.433572\n",
       "                                  3    0.688925  0.685491    0.435300\n",
       "                                  4    0.666406  0.663468    0.440214\n",
       "                           2000.0 2    0.519607  0.519422    0.487840\n",
       "                                  3    0.499999  0.499990    0.481783\n",
       "                                  4    0.499998  0.500009    0.455657\n",
       "                     1.000 50.0   2    0.661676  0.659024    0.442277\n",
       "                                  3    0.670741  0.669190    0.430938\n",
       "                                  4    0.645736  0.645785    0.436684\n",
       "                           200.0  2    0.500000  0.500000    0.505856\n",
       "                                  3    0.512222  0.512245    0.454890\n",
       "                                  4    0.512277  0.525013    0.461141\n",
       "                           2000.0 2    0.500000  0.500000    0.516213\n",
       "                                  3    0.500000  0.500000    0.495046\n",
       "                                  4    0.500000  0.500000    0.484051\n",
       "          100000.0   0.001 400.0  2    0.682380  0.679462    0.440003\n",
       "                     0.010 400.0  2    0.690592  0.686327    0.433375\n",
       "                           500.0  3    0.692772  0.687490    0.436187\n",
       "          500000.0   0.001 500.0  2    0.692606  0.688206    0.432709\n",
       "                                  3    0.693053  0.688576    0.432228\n",
       "                                  4    0.692560  0.688390    0.432267\n",
       "                     0.010 500.0  2    0.697578  0.687489    0.429204\n",
       "                                  3    0.698201  0.686889    0.428699\n",
       "                                  4    0.698381  0.687215    0.429035\n",
       "          10000000.0 0.010 1000.0 4    0.716502  0.664801    0.415642"
      ]
     },
     "execution_count": 37,
     "metadata": {},
     "output_type": "execute_result"
    }
   ],
   "source": [
    "res.groupby(by=['trainsize','epochs','alpha','batch','nhl'])[['TrainAUC','ValAUC','trainerror']].mean()"
   ]
  },
  {
   "cell_type": "markdown",
   "metadata": {},
   "source": [
    "# By Train Size"
   ]
  },
  {
   "cell_type": "code",
   "execution_count": 38,
   "metadata": {},
   "outputs": [
    {
     "data": {
      "text/html": [
       "<div>\n",
       "<style>\n",
       "    .dataframe thead tr:only-child th {\n",
       "        text-align: right;\n",
       "    }\n",
       "\n",
       "    .dataframe thead th {\n",
       "        text-align: left;\n",
       "    }\n",
       "\n",
       "    .dataframe tbody tr th {\n",
       "        vertical-align: top;\n",
       "    }\n",
       "</style>\n",
       "<table border=\"1\" class=\"dataframe\">\n",
       "  <thead>\n",
       "    <tr style=\"text-align: right;\">\n",
       "      <th></th>\n",
       "      <th>TrainAUC</th>\n",
       "      <th>ValAUC</th>\n",
       "      <th>trainerror</th>\n",
       "    </tr>\n",
       "    <tr>\n",
       "      <th>trainsize</th>\n",
       "      <th></th>\n",
       "      <th></th>\n",
       "      <th></th>\n",
       "    </tr>\n",
       "  </thead>\n",
       "  <tbody>\n",
       "    <tr>\n",
       "      <th>2000.0</th>\n",
       "      <td>0.965562</td>\n",
       "      <td>0.581214</td>\n",
       "      <td>0.064721</td>\n",
       "    </tr>\n",
       "    <tr>\n",
       "      <th>10000.0</th>\n",
       "      <td>0.813300</td>\n",
       "      <td>0.617517</td>\n",
       "      <td>0.319089</td>\n",
       "    </tr>\n",
       "    <tr>\n",
       "      <th>284641.0</th>\n",
       "      <td>0.624072</td>\n",
       "      <td>0.621859</td>\n",
       "      <td>0.450983</td>\n",
       "    </tr>\n",
       "  </tbody>\n",
       "</table>\n",
       "</div>"
      ],
      "text/plain": [
       "           TrainAUC    ValAUC  trainerror\n",
       "trainsize                                \n",
       "2000.0     0.965562  0.581214    0.064721\n",
       "10000.0    0.813300  0.617517    0.319089\n",
       "284641.0   0.624072  0.621859    0.450983"
      ]
     },
     "execution_count": 38,
     "metadata": {},
     "output_type": "execute_result"
    }
   ],
   "source": [
    "bysize = res.groupby(by=['trainsize'])[['TrainAUC','ValAUC','trainerror']].mean()\n",
    "bysize"
   ]
  },
  {
   "cell_type": "code",
   "execution_count": 39,
   "metadata": {},
   "outputs": [
    {
     "data": {
      "image/png": "[encoded data removed]",
      "text/plain": [
       "<matplotlib.figure.Figure at 0x1ea122e8>"
      ]
     },
     "metadata": {},
     "output_type": "display_data"
    }
   ],
   "source": [
    "fig = plt.figure()\n",
    "plt.plot(list(bysize.index),bysize['TrainAUC'])\n",
    "plt.plot(list(bysize.index),bysize['ValAUC'])\n",
    "plt.plot(list(bysize.index),bysize['trainerror'])\n",
    "plt.legend(['TrainAUC','ValAUC','trainerror'])\n",
    "plt.xscale('log')\n",
    "t = plt.title('AUC and error as a function of Train size')"
   ]
  },
  {
   "cell_type": "markdown",
   "metadata": {},
   "source": [
    "As train size increases, train error gets bigger, since the nnet has hard times to fit to the data.  \n",
    "On the other hand, big train size makes the validation error slightly decrease."
   ]
  },
  {
   "cell_type": "markdown",
   "metadata": {},
   "source": [
    "# By training epochs"
   ]
  },
  {
   "cell_type": "code",
   "execution_count": 43,
   "metadata": {
    "scrolled": true
   },
   "outputs": [
    {
     "data": {
      "text/html": [
       "<div>\n",
       "<table border=\"1\" class=\"dataframe\">\n",
       "  <thead>\n",
       "    <tr style=\"text-align: right;\">\n",
       "      <th></th>\n",
       "      <th>TrainAUC</th>\n",
       "      <th>ValAUC</th>\n",
       "    </tr>\n",
       "    <tr>\n",
       "      <th>epochs</th>\n",
       "      <th></th>\n",
       "      <th></th>\n",
       "    </tr>\n",
       "  </thead>\n",
       "  <tbody>\n",
       "    <tr>\n",
       "      <th>50000</th>\n",
       "      <td>0.610836</td>\n",
       "      <td>0.609725</td>\n",
       "    </tr>\n",
       "    <tr>\n",
       "      <th>100000</th>\n",
       "      <td>0.687184</td>\n",
       "      <td>0.683405</td>\n",
       "    </tr>\n",
       "    <tr>\n",
       "      <th>500000</th>\n",
       "      <td>0.695694</td>\n",
       "      <td>0.687719</td>\n",
       "    </tr>\n",
       "    <tr>\n",
       "      <th>10000000</th>\n",
       "      <td>0.716502</td>\n",
       "      <td>0.664801</td>\n",
       "    </tr>\n",
       "  </tbody>\n",
       "</table>\n",
       "</div>"
      ],
      "text/plain": [
       "          TrainAUC    ValAUC\n",
       "epochs                      \n",
       "50000     0.610836  0.609725\n",
       "100000    0.687184  0.683405\n",
       "500000    0.695694  0.687719\n",
       "10000000  0.716502  0.664801"
      ]
     },
     "execution_count": 43,
     "metadata": {},
     "output_type": "execute_result"
    }
   ],
   "source": [
    "byep = res[res.trainsize>10000].groupby(by=['epochs'])[['TrainAUC','ValAUC']].mean()\n",
    "byep"
   ]
  },
  {
   "cell_type": "code",
   "execution_count": 12,
   "metadata": {},
   "outputs": [
    {
     "data": {
      "text/plain": [
       "array([ 4.69897,  5.     ,  5.69897,  7.     ])"
      ]
     },
     "execution_count": 12,
     "metadata": {},
     "output_type": "execute_result"
    }
   ],
   "source": [
    "np.log10(list(byep.index))"
   ]
  },
  {
   "cell_type": "code",
   "execution_count": 46,
   "metadata": {},
   "outputs": [
    {
     "data": {
      "image/png": "[encoded data removed]",
      "text/plain": [
       "<matplotlib.figure.Figure at 0xc716f28>"
      ]
     },
     "metadata": {},
     "output_type": "display_data"
    }
   ],
   "source": [
    "fig = plt.figure()\n",
    "plt.plot(np.log10(list(byep.index)),byep['TrainAUC'])\n",
    "plt.plot(np.log10(list(byep.index)),byep['ValAUC'])\n",
    "# plt.plot(np.log10(list(byep.index)),byep['trainerror'])\n",
    "plt.ylim([0,1.0])\n",
    "# plt.xlim([42000, 550050])\n",
    "# plt.xscale('log')\n",
    "# plt.xticks(np.log10(list(byep.index)))\n",
    "plt.legend(['TrainAUC','ValAUC','trainerror'])\n",
    "plt.xlabel('alpha exponent (base 10)')\n",
    "plt.ylabel('AUC')\n",
    "t = plt.title('AUC as a function of number of epochs')"
   ]
  },
  {
   "cell_type": "markdown",
   "metadata": {},
   "source": [
    "As epochs increase, the nnet performance improves, however we dont see major improvement when epochs>10000  \n",
    "All the analysis from now on are made on the whole training set, hence we won't see overfitting."
   ]
  },
  {
   "cell_type": "markdown",
   "metadata": {},
   "source": [
    "# By alpha"
   ]
  },
  {
   "cell_type": "code",
   "execution_count": 19,
   "metadata": {},
   "outputs": [
    {
     "data": {
      "text/html": [
       "<div>\n",
       "<table border=\"1\" class=\"dataframe\">\n",
       "  <thead>\n",
       "    <tr style=\"text-align: right;\">\n",
       "      <th></th>\n",
       "      <th>TrainAUC</th>\n",
       "      <th>ValAUC</th>\n",
       "    </tr>\n",
       "    <tr>\n",
       "      <th>alpha</th>\n",
       "      <th></th>\n",
       "      <th></th>\n",
       "    </tr>\n",
       "  </thead>\n",
       "  <tbody>\n",
       "    <tr>\n",
       "      <th>0.001</th>\n",
       "      <td>0.691078</td>\n",
       "      <td>0.686941</td>\n",
       "    </tr>\n",
       "    <tr>\n",
       "      <th>0.010</th>\n",
       "      <td>0.681293</td>\n",
       "      <td>0.676275</td>\n",
       "    </tr>\n",
       "    <tr>\n",
       "      <th>0.100</th>\n",
       "      <td>0.622076</td>\n",
       "      <td>0.620140</td>\n",
       "    </tr>\n",
       "    <tr>\n",
       "      <th>1.000</th>\n",
       "      <td>0.557134</td>\n",
       "      <td>0.557724</td>\n",
       "    </tr>\n",
       "  </tbody>\n",
       "</table>\n",
       "</div>"
      ],
      "text/plain": [
       "       TrainAUC    ValAUC\n",
       "alpha                    \n",
       "0.001  0.691078  0.686941\n",
       "0.010  0.681293  0.676275\n",
       "0.100  0.622076  0.620140\n",
       "1.000  0.557134  0.557724"
      ]
     },
     "execution_count": 19,
     "metadata": {},
     "output_type": "execute_result"
    }
   ],
   "source": [
    "bya = res[res.trainsize>10000].groupby(by=['alpha'])[['TrainAUC','ValAUC']].mean()\n",
    "bya"
   ]
  },
  {
   "cell_type": "code",
   "execution_count": 28,
   "metadata": {},
   "outputs": [
    {
     "data": {
      "image/png": "[encoded data removed]",
      "text/plain": [
       "<matplotlib.figure.Figure at 0xc54ee48>"
      ]
     },
     "metadata": {},
     "output_type": "display_data"
    }
   ],
   "source": [
    "fig = plt.figure()\n",
    "plt.plot(list(bya.index),bya['TrainAUC'])\n",
    "plt.plot(list(bya.index),bya['ValAUC'])\n",
    "# plt.plot(list(bya.index),bya['trainerror'])\n",
    "plt.ylim([0,1.0])\n",
    "plt.xscale('log')\n",
    "#plt.yscale('log')\n",
    "plt.xticks(list(bya.index))\n",
    "plt.xlabel('Alpha (log10)')\n",
    "plt.ylabel('AUC')\n",
    "plt.legend(['TrainAUC','ValAUC','Train error'])\n",
    "t = plt.title('AUC as a function of learning rate')"
   ]
  },
  {
   "cell_type": "markdown",
   "metadata": {},
   "source": [
    "Small alpha, around 0.001  (best was found at 0.01), indicates good AUC for both train and validation sets.  \n",
    "Big alpha don't give good results. prevents convergence"
   ]
  },
  {
   "cell_type": "markdown",
   "metadata": {},
   "source": [
    "# By Batch size"
   ]
  },
  {
   "cell_type": "code",
   "execution_count": 20,
   "metadata": {},
   "outputs": [
    {
     "data": {
      "text/html": [
       "<div>\n",
       "<table border=\"1\" class=\"dataframe\">\n",
       "  <thead>\n",
       "    <tr style=\"text-align: right;\">\n",
       "      <th></th>\n",
       "      <th>TrainAUC</th>\n",
       "      <th>ValAUC</th>\n",
       "    </tr>\n",
       "    <tr>\n",
       "      <th>batch</th>\n",
       "      <th></th>\n",
       "      <th></th>\n",
       "    </tr>\n",
       "  </thead>\n",
       "  <tbody>\n",
       "    <tr>\n",
       "      <th>50</th>\n",
       "      <td>0.670427</td>\n",
       "      <td>0.668375</td>\n",
       "    </tr>\n",
       "    <tr>\n",
       "      <th>200</th>\n",
       "      <td>0.623503</td>\n",
       "      <td>0.622609</td>\n",
       "    </tr>\n",
       "    <tr>\n",
       "      <th>400</th>\n",
       "      <td>0.686486</td>\n",
       "      <td>0.682895</td>\n",
       "    </tr>\n",
       "    <tr>\n",
       "      <th>500</th>\n",
       "      <td>0.695629</td>\n",
       "      <td>0.687714</td>\n",
       "    </tr>\n",
       "    <tr>\n",
       "      <th>1000</th>\n",
       "      <td>0.716502</td>\n",
       "      <td>0.664801</td>\n",
       "    </tr>\n",
       "    <tr>\n",
       "      <th>2000</th>\n",
       "      <td>0.502450</td>\n",
       "      <td>0.502426</td>\n",
       "    </tr>\n",
       "  </tbody>\n",
       "</table>\n",
       "</div>"
      ],
      "text/plain": [
       "       TrainAUC    ValAUC\n",
       "batch                    \n",
       "50     0.670427  0.668375\n",
       "200    0.623503  0.622609\n",
       "400    0.686486  0.682895\n",
       "500    0.695629  0.687714\n",
       "1000   0.716502  0.664801\n",
       "2000   0.502450  0.502426"
      ]
     },
     "execution_count": 20,
     "metadata": {},
     "output_type": "execute_result"
    }
   ],
   "source": [
    "byb = res[res.trainsize>10000].groupby(by=['batch'])[['TrainAUC','ValAUC']].mean()\n",
    "byb"
   ]
  },
  {
   "cell_type": "code",
   "execution_count": 29,
   "metadata": {},
   "outputs": [
    {
     "data": {
      "image/png": "[encoded data removed]",
      "text/plain": [
       "<matplotlib.figure.Figure at 0xb243400>"
      ]
     },
     "metadata": {},
     "output_type": "display_data"
    }
   ],
   "source": [
    "fig = plt.figure()\n",
    "plt.plot(list(byb.index),byb['TrainAUC'])\n",
    "plt.plot(list(byb.index),byb['ValAUC'])\n",
    "# plt.plot(list(byb.index),byb['trainerror'])\n",
    "plt.ylim([0,1.0])\n",
    "#plt.xscale('log')\n",
    "#plt.yscale('log')\n",
    "plt.xticks(list(byb.index))\n",
    "plt.xlabel('Batch size')\n",
    "plt.ylabel('AUC')\n",
    "plt.legend(['TrainAUC','ValAUC','Train error'])\n",
    "t = plt.title('AUC as a function of batch size')"
   ]
  },
  {
   "cell_type": "markdown",
   "metadata": {},
   "source": [
    "We can see a maximum AUC on 400-500 batch size. Bigger apparently says too much noise, prevents convergence (?)"
   ]
  },
  {
   "cell_type": "markdown",
   "metadata": {},
   "source": [
    "# By Network stucture"
   ]
  },
  {
   "cell_type": "code",
   "execution_count": 30,
   "metadata": {
    "scrolled": false
   },
   "outputs": [
    {
     "data": {
      "text/html": [
       "<div>\n",
       "<table border=\"1\" class=\"dataframe\">\n",
       "  <thead>\n",
       "    <tr style=\"text-align: right;\">\n",
       "      <th></th>\n",
       "      <th></th>\n",
       "      <th>TrainAUC</th>\n",
       "      <th>ValAUC</th>\n",
       "    </tr>\n",
       "    <tr>\n",
       "      <th>nhl</th>\n",
       "      <th>hl1</th>\n",
       "      <th></th>\n",
       "      <th></th>\n",
       "    </tr>\n",
       "  </thead>\n",
       "  <tbody>\n",
       "    <tr>\n",
       "      <th rowspan=\"7\" valign=\"top\">2</th>\n",
       "      <th>20</th>\n",
       "      <td>0.652937</td>\n",
       "      <td>0.650692</td>\n",
       "    </tr>\n",
       "    <tr>\n",
       "      <th>25</th>\n",
       "      <td>0.529411</td>\n",
       "      <td>0.529133</td>\n",
       "    </tr>\n",
       "    <tr>\n",
       "      <th>30</th>\n",
       "      <td>0.659618</td>\n",
       "      <td>0.656995</td>\n",
       "    </tr>\n",
       "    <tr>\n",
       "      <th>32</th>\n",
       "      <td>0.694724</td>\n",
       "      <td>0.687858</td>\n",
       "    </tr>\n",
       "    <tr>\n",
       "      <th>40</th>\n",
       "      <td>0.650604</td>\n",
       "      <td>0.648015</td>\n",
       "    </tr>\n",
       "    <tr>\n",
       "      <th>50</th>\n",
       "      <td>0.597906</td>\n",
       "      <td>0.593890</td>\n",
       "    </tr>\n",
       "    <tr>\n",
       "      <th>100</th>\n",
       "      <td>0.500000</td>\n",
       "      <td>0.500000</td>\n",
       "    </tr>\n",
       "    <tr>\n",
       "      <th rowspan=\"7\" valign=\"top\">3</th>\n",
       "      <th>20</th>\n",
       "      <td>0.655243</td>\n",
       "      <td>0.653327</td>\n",
       "    </tr>\n",
       "    <tr>\n",
       "      <th>25</th>\n",
       "      <td>0.499998</td>\n",
       "      <td>0.499985</td>\n",
       "    </tr>\n",
       "    <tr>\n",
       "      <th>30</th>\n",
       "      <td>0.650816</td>\n",
       "      <td>0.648774</td>\n",
       "    </tr>\n",
       "    <tr>\n",
       "      <th>32</th>\n",
       "      <td>0.695258</td>\n",
       "      <td>0.688119</td>\n",
       "    </tr>\n",
       "    <tr>\n",
       "      <th>40</th>\n",
       "      <td>0.650652</td>\n",
       "      <td>0.648455</td>\n",
       "    </tr>\n",
       "    <tr>\n",
       "      <th>50</th>\n",
       "      <td>0.601965</td>\n",
       "      <td>0.597389</td>\n",
       "    </tr>\n",
       "    <tr>\n",
       "      <th>100</th>\n",
       "      <td>0.500000</td>\n",
       "      <td>0.500000</td>\n",
       "    </tr>\n",
       "    <tr>\n",
       "      <th rowspan=\"7\" valign=\"top\">4</th>\n",
       "      <th>20</th>\n",
       "      <td>0.598798</td>\n",
       "      <td>0.597592</td>\n",
       "    </tr>\n",
       "    <tr>\n",
       "      <th>25</th>\n",
       "      <td>0.500000</td>\n",
       "      <td>0.500015</td>\n",
       "    </tr>\n",
       "    <tr>\n",
       "      <th>30</th>\n",
       "      <td>0.653609</td>\n",
       "      <td>0.651932</td>\n",
       "    </tr>\n",
       "    <tr>\n",
       "      <th>32</th>\n",
       "      <td>0.695020</td>\n",
       "      <td>0.688097</td>\n",
       "    </tr>\n",
       "    <tr>\n",
       "      <th>40</th>\n",
       "      <td>0.648534</td>\n",
       "      <td>0.653066</td>\n",
       "    </tr>\n",
       "    <tr>\n",
       "      <th>50</th>\n",
       "      <td>0.607267</td>\n",
       "      <td>0.599196</td>\n",
       "    </tr>\n",
       "    <tr>\n",
       "      <th>100</th>\n",
       "      <td>0.500000</td>\n",
       "      <td>0.500000</td>\n",
       "    </tr>\n",
       "  </tbody>\n",
       "</table>\n",
       "</div>"
      ],
      "text/plain": [
       "         TrainAUC    ValAUC\n",
       "nhl hl1                    \n",
       "2   20   0.652937  0.650692\n",
       "    25   0.529411  0.529133\n",
       "    30   0.659618  0.656995\n",
       "    32   0.694724  0.687858\n",
       "    40   0.650604  0.648015\n",
       "    50   0.597906  0.593890\n",
       "    100  0.500000  0.500000\n",
       "3   20   0.655243  0.653327\n",
       "    25   0.499998  0.499985\n",
       "    30   0.650816  0.648774\n",
       "    32   0.695258  0.688119\n",
       "    40   0.650652  0.648455\n",
       "    50   0.601965  0.597389\n",
       "    100  0.500000  0.500000\n",
       "4   20   0.598798  0.597592\n",
       "    25   0.500000  0.500015\n",
       "    30   0.653609  0.651932\n",
       "    32   0.695020  0.688097\n",
       "    40   0.648534  0.653066\n",
       "    50   0.607267  0.599196\n",
       "    100  0.500000  0.500000"
      ]
     },
     "execution_count": 30,
     "metadata": {},
     "output_type": "execute_result"
    }
   ],
   "source": [
    "res[res.trainsize>10000].groupby(by=['nhl','hl1'])[['TrainAUC','ValAUC']].mean()"
   ]
  },
  {
   "cell_type": "code",
   "execution_count": 74,
   "metadata": {
    "scrolled": true
   },
   "outputs": [
    {
     "data": {
      "text/html": [
       "<div>\n",
       "<table border=\"1\" class=\"dataframe\">\n",
       "  <thead>\n",
       "    <tr style=\"text-align: right;\">\n",
       "      <th></th>\n",
       "      <th></th>\n",
       "      <th></th>\n",
       "      <th></th>\n",
       "      <th>TrainAUC</th>\n",
       "      <th>ValAUC</th>\n",
       "      <th>trainerror</th>\n",
       "    </tr>\n",
       "    <tr>\n",
       "      <th>hl1</th>\n",
       "      <th>hl2</th>\n",
       "      <th>hl3</th>\n",
       "      <th>hl4</th>\n",
       "      <th></th>\n",
       "      <th></th>\n",
       "      <th></th>\n",
       "    </tr>\n",
       "  </thead>\n",
       "  <tbody>\n",
       "    <tr>\n",
       "      <th rowspan=\"11\" valign=\"top\">20</th>\n",
       "      <th rowspan=\"3\" valign=\"top\">4</th>\n",
       "      <th>0</th>\n",
       "      <th>0</th>\n",
       "      <td>0.652195</td>\n",
       "      <td>0.649863</td>\n",
       "      <td>0.453868</td>\n",
       "    </tr>\n",
       "    <tr>\n",
       "      <th>1</th>\n",
       "      <th>0</th>\n",
       "      <td>0.665983</td>\n",
       "      <td>0.663885</td>\n",
       "      <td>0.440015</td>\n",
       "    </tr>\n",
       "    <tr>\n",
       "      <th>2</th>\n",
       "      <th>0</th>\n",
       "      <td>0.574531</td>\n",
       "      <td>0.573650</td>\n",
       "      <td>0.462162</td>\n",
       "    </tr>\n",
       "    <tr>\n",
       "      <th rowspan=\"4\" valign=\"top\">10</th>\n",
       "      <th>0</th>\n",
       "      <th>0</th>\n",
       "      <td>0.653151</td>\n",
       "      <td>0.650859</td>\n",
       "      <td>0.452418</td>\n",
       "    </tr>\n",
       "    <tr>\n",
       "      <th>3</th>\n",
       "      <th>0</th>\n",
       "      <td>0.648865</td>\n",
       "      <td>0.646818</td>\n",
       "      <td>0.437195</td>\n",
       "    </tr>\n",
       "    <tr>\n",
       "      <th rowspan=\"2\" valign=\"top\">7</th>\n",
       "      <th>0</th>\n",
       "      <td>0.668435</td>\n",
       "      <td>0.666682</td>\n",
       "      <td>0.439296</td>\n",
       "    </tr>\n",
       "    <tr>\n",
       "      <th>2</th>\n",
       "      <td>0.648524</td>\n",
       "      <td>0.646619</td>\n",
       "      <td>0.439498</td>\n",
       "    </tr>\n",
       "    <tr>\n",
       "      <th rowspan=\"4\" valign=\"top\">16</th>\n",
       "      <th>0</th>\n",
       "      <th>0</th>\n",
       "      <td>0.653465</td>\n",
       "      <td>0.651353</td>\n",
       "      <td>0.454695</td>\n",
       "    </tr>\n",
       "    <tr>\n",
       "      <th>4</th>\n",
       "      <th>0</th>\n",
       "      <td>0.649218</td>\n",
       "      <td>0.647546</td>\n",
       "      <td>0.439183</td>\n",
       "    </tr>\n",
       "    <tr>\n",
       "      <th rowspan=\"2\" valign=\"top\">11</th>\n",
       "      <th>0</th>\n",
       "      <td>0.649896</td>\n",
       "      <td>0.647734</td>\n",
       "      <td>0.437225</td>\n",
       "    </tr>\n",
       "    <tr>\n",
       "      <th>3</th>\n",
       "      <td>0.647870</td>\n",
       "      <td>0.646158</td>\n",
       "      <td>0.439441</td>\n",
       "    </tr>\n",
       "    <tr>\n",
       "      <th rowspan=\"11\" valign=\"top\">25</th>\n",
       "      <th rowspan=\"3\" valign=\"top\">5</th>\n",
       "      <th>0</th>\n",
       "      <th>0</th>\n",
       "      <td>0.588232</td>\n",
       "      <td>0.587399</td>\n",
       "      <td>0.469568</td>\n",
       "    </tr>\n",
       "    <tr>\n",
       "      <th>1</th>\n",
       "      <th>0</th>\n",
       "      <td>0.500002</td>\n",
       "      <td>0.500041</td>\n",
       "      <td>0.455623</td>\n",
       "    </tr>\n",
       "    <tr>\n",
       "      <th>3</th>\n",
       "      <th>0</th>\n",
       "      <td>0.500000</td>\n",
       "      <td>0.500007</td>\n",
       "      <td>0.452017</td>\n",
       "    </tr>\n",
       "    <tr>\n",
       "      <th rowspan=\"4\" valign=\"top\">12</th>\n",
       "      <th>0</th>\n",
       "      <th>0</th>\n",
       "      <td>0.500000</td>\n",
       "      <td>0.500000</td>\n",
       "      <td>0.548130</td>\n",
       "    </tr>\n",
       "    <tr>\n",
       "      <th>3</th>\n",
       "      <th>0</th>\n",
       "      <td>0.500000</td>\n",
       "      <td>0.500000</td>\n",
       "      <td>0.451875</td>\n",
       "    </tr>\n",
       "    <tr>\n",
       "      <th rowspan=\"2\" valign=\"top\">8</th>\n",
       "      <th>0</th>\n",
       "      <td>0.499986</td>\n",
       "      <td>0.499855</td>\n",
       "      <td>0.471298</td>\n",
       "    </tr>\n",
       "    <tr>\n",
       "      <th>2</th>\n",
       "      <td>0.500000</td>\n",
       "      <td>0.500046</td>\n",
       "      <td>0.458558</td>\n",
       "    </tr>\n",
       "    <tr>\n",
       "      <th rowspan=\"4\" valign=\"top\">20</th>\n",
       "      <th>0</th>\n",
       "      <th>0</th>\n",
       "      <td>0.500000</td>\n",
       "      <td>0.500000</td>\n",
       "      <td>0.453025</td>\n",
       "    </tr>\n",
       "    <tr>\n",
       "      <th>6</th>\n",
       "      <th>0</th>\n",
       "      <td>0.500000</td>\n",
       "      <td>0.500000</td>\n",
       "      <td>0.500465</td>\n",
       "    </tr>\n",
       "    <tr>\n",
       "      <th rowspan=\"2\" valign=\"top\">14</th>\n",
       "      <th>0</th>\n",
       "      <td>0.500000</td>\n",
       "      <td>0.500000</td>\n",
       "      <td>0.502230</td>\n",
       "    </tr>\n",
       "    <tr>\n",
       "      <th>4</th>\n",
       "      <td>0.500000</td>\n",
       "      <td>0.500000</td>\n",
       "      <td>0.451145</td>\n",
       "    </tr>\n",
       "    <tr>\n",
       "      <th rowspan=\"8\" valign=\"top\">30</th>\n",
       "      <th rowspan=\"4\" valign=\"top\">6</th>\n",
       "      <th>0</th>\n",
       "      <th>0</th>\n",
       "      <td>0.653465</td>\n",
       "      <td>0.651267</td>\n",
       "      <td>0.435531</td>\n",
       "    </tr>\n",
       "    <tr>\n",
       "      <th>1</th>\n",
       "      <th>0</th>\n",
       "      <td>0.647296</td>\n",
       "      <td>0.645819</td>\n",
       "      <td>0.439021</td>\n",
       "    </tr>\n",
       "    <tr>\n",
       "      <th rowspan=\"2\" valign=\"top\">4</th>\n",
       "      <th>0</th>\n",
       "      <td>0.649614</td>\n",
       "      <td>0.647572</td>\n",
       "      <td>0.440972</td>\n",
       "    </tr>\n",
       "    <tr>\n",
       "      <th>1</th>\n",
       "      <td>0.663836</td>\n",
       "      <td>0.662532</td>\n",
       "      <td>0.441051</td>\n",
       "    </tr>\n",
       "    <tr>\n",
       "      <th rowspan=\"4\" valign=\"top\">15</th>\n",
       "      <th>0</th>\n",
       "      <th>0</th>\n",
       "      <td>0.661770</td>\n",
       "      <td>0.658937</td>\n",
       "      <td>0.437858</td>\n",
       "    </tr>\n",
       "    <tr>\n",
       "      <th>4</th>\n",
       "      <th>0</th>\n",
       "      <td>0.652380</td>\n",
       "      <td>0.649943</td>\n",
       "      <td>0.438358</td>\n",
       "    </tr>\n",
       "    <tr>\n",
       "      <th rowspan=\"2\" valign=\"top\">10</th>\n",
       "      <th>0</th>\n",
       "      <td>0.650750</td>\n",
       "      <td>0.648647</td>\n",
       "      <td>0.451609</td>\n",
       "    </tr>\n",
       "    <tr>\n",
       "      <th>3</th>\n",
       "      <td>0.647858</td>\n",
       "      <td>0.645935</td>\n",
       "      <td>0.438829</td>\n",
       "    </tr>\n",
       "    <tr>\n",
       "      <th>...</th>\n",
       "      <th>...</th>\n",
       "      <th>...</th>\n",
       "      <th>...</th>\n",
       "      <td>...</td>\n",
       "      <td>...</td>\n",
       "      <td>...</td>\n",
       "    </tr>\n",
       "    <tr>\n",
       "      <th>40</th>\n",
       "      <th>32</th>\n",
       "      <th>22</th>\n",
       "      <th>6</th>\n",
       "      <td>0.649420</td>\n",
       "      <td>0.647606</td>\n",
       "      <td>0.454468</td>\n",
       "    </tr>\n",
       "    <tr>\n",
       "      <th rowspan=\"17\" valign=\"top\">50</th>\n",
       "      <th rowspan=\"4\" valign=\"top\">10</th>\n",
       "      <th>0</th>\n",
       "      <th>0</th>\n",
       "      <td>0.500000</td>\n",
       "      <td>0.500000</td>\n",
       "      <td>0.450230</td>\n",
       "    </tr>\n",
       "    <tr>\n",
       "      <th>3</th>\n",
       "      <th>0</th>\n",
       "      <td>0.500000</td>\n",
       "      <td>0.500000</td>\n",
       "      <td>0.502145</td>\n",
       "    </tr>\n",
       "    <tr>\n",
       "      <th rowspan=\"2\" valign=\"top\">7</th>\n",
       "      <th>0</th>\n",
       "      <td>0.500000</td>\n",
       "      <td>0.500000</td>\n",
       "      <td>0.502835</td>\n",
       "    </tr>\n",
       "    <tr>\n",
       "      <th>2</th>\n",
       "      <td>0.499992</td>\n",
       "      <td>0.499995</td>\n",
       "      <td>0.462300</td>\n",
       "    </tr>\n",
       "    <tr>\n",
       "      <th rowspan=\"6\" valign=\"top\">25</th>\n",
       "      <th>0</th>\n",
       "      <th>0</th>\n",
       "      <td>0.597799</td>\n",
       "      <td>0.594001</td>\n",
       "      <td>0.464253</td>\n",
       "    </tr>\n",
       "    <tr>\n",
       "      <th>7</th>\n",
       "      <th>0</th>\n",
       "      <td>0.500000</td>\n",
       "      <td>0.500000</td>\n",
       "      <td>0.501390</td>\n",
       "    </tr>\n",
       "    <tr>\n",
       "      <th rowspan=\"2\" valign=\"top\">12</th>\n",
       "      <th>0</th>\n",
       "      <td>0.696872</td>\n",
       "      <td>0.687238</td>\n",
       "      <td>0.429241</td>\n",
       "    </tr>\n",
       "    <tr>\n",
       "      <th>6</th>\n",
       "      <td>0.695561</td>\n",
       "      <td>0.687695</td>\n",
       "      <td>0.430623</td>\n",
       "    </tr>\n",
       "    <tr>\n",
       "      <th rowspan=\"2\" valign=\"top\">17</th>\n",
       "      <th>0</th>\n",
       "      <td>0.500000</td>\n",
       "      <td>0.500000</td>\n",
       "      <td>0.500390</td>\n",
       "    </tr>\n",
       "    <tr>\n",
       "      <th>5</th>\n",
       "      <td>0.500000</td>\n",
       "      <td>0.500000</td>\n",
       "      <td>0.500110</td>\n",
       "    </tr>\n",
       "    <tr>\n",
       "      <th rowspan=\"3\" valign=\"top\">35</th>\n",
       "      <th>0</th>\n",
       "      <th>0</th>\n",
       "      <td>0.696829</td>\n",
       "      <td>0.687513</td>\n",
       "      <td>0.430103</td>\n",
       "    </tr>\n",
       "    <tr>\n",
       "      <th rowspan=\"2\" valign=\"top\">17</th>\n",
       "      <th>0</th>\n",
       "      <td>0.696927</td>\n",
       "      <td>0.686738</td>\n",
       "      <td>0.430175</td>\n",
       "    </tr>\n",
       "    <tr>\n",
       "      <th>8</th>\n",
       "      <td>0.697992</td>\n",
       "      <td>0.686933</td>\n",
       "      <td>0.429380</td>\n",
       "    </tr>\n",
       "    <tr>\n",
       "      <th rowspan=\"4\" valign=\"top\">40</th>\n",
       "      <th>0</th>\n",
       "      <th>0</th>\n",
       "      <td>0.500000</td>\n",
       "      <td>0.500000</td>\n",
       "      <td>0.501435</td>\n",
       "    </tr>\n",
       "    <tr>\n",
       "      <th>12</th>\n",
       "      <th>0</th>\n",
       "      <td>0.500000</td>\n",
       "      <td>0.500000</td>\n",
       "      <td>0.450690</td>\n",
       "    </tr>\n",
       "    <tr>\n",
       "      <th rowspan=\"2\" valign=\"top\">28</th>\n",
       "      <th>0</th>\n",
       "      <td>0.500000</td>\n",
       "      <td>0.500000</td>\n",
       "      <td>0.549350</td>\n",
       "    </tr>\n",
       "    <tr>\n",
       "      <th>8</th>\n",
       "      <td>0.500000</td>\n",
       "      <td>0.500000</td>\n",
       "      <td>0.501530</td>\n",
       "    </tr>\n",
       "    <tr>\n",
       "      <th rowspan=\"12\" valign=\"top\">100</th>\n",
       "      <th rowspan=\"4\" valign=\"top\">20</th>\n",
       "      <th>0</th>\n",
       "      <th>0</th>\n",
       "      <td>0.500000</td>\n",
       "      <td>0.500000</td>\n",
       "      <td>0.499295</td>\n",
       "    </tr>\n",
       "    <tr>\n",
       "      <th>6</th>\n",
       "      <th>0</th>\n",
       "      <td>0.500000</td>\n",
       "      <td>0.500000</td>\n",
       "      <td>0.498540</td>\n",
       "    </tr>\n",
       "    <tr>\n",
       "      <th rowspan=\"2\" valign=\"top\">14</th>\n",
       "      <th>0</th>\n",
       "      <td>0.500000</td>\n",
       "      <td>0.500000</td>\n",
       "      <td>0.500655</td>\n",
       "    </tr>\n",
       "    <tr>\n",
       "      <th>4</th>\n",
       "      <td>0.500000</td>\n",
       "      <td>0.500000</td>\n",
       "      <td>0.499420</td>\n",
       "    </tr>\n",
       "    <tr>\n",
       "      <th rowspan=\"4\" valign=\"top\">50</th>\n",
       "      <th>0</th>\n",
       "      <th>0</th>\n",
       "      <td>0.500000</td>\n",
       "      <td>0.500000</td>\n",
       "      <td>0.549655</td>\n",
       "    </tr>\n",
       "    <tr>\n",
       "      <th>15</th>\n",
       "      <th>0</th>\n",
       "      <td>0.500000</td>\n",
       "      <td>0.500000</td>\n",
       "      <td>0.450830</td>\n",
       "    </tr>\n",
       "    <tr>\n",
       "      <th rowspan=\"2\" valign=\"top\">35</th>\n",
       "      <th>0</th>\n",
       "      <td>0.500000</td>\n",
       "      <td>0.500000</td>\n",
       "      <td>0.548615</td>\n",
       "    </tr>\n",
       "    <tr>\n",
       "      <th>10</th>\n",
       "      <td>0.500000</td>\n",
       "      <td>0.500000</td>\n",
       "      <td>0.453260</td>\n",
       "    </tr>\n",
       "    <tr>\n",
       "      <th rowspan=\"4\" valign=\"top\">80</th>\n",
       "      <th>0</th>\n",
       "      <th>0</th>\n",
       "      <td>0.500000</td>\n",
       "      <td>0.500000</td>\n",
       "      <td>0.548845</td>\n",
       "    </tr>\n",
       "    <tr>\n",
       "      <th>24</th>\n",
       "      <th>0</th>\n",
       "      <td>0.500000</td>\n",
       "      <td>0.500000</td>\n",
       "      <td>0.452325</td>\n",
       "    </tr>\n",
       "    <tr>\n",
       "      <th rowspan=\"2\" valign=\"top\">56</th>\n",
       "      <th>0</th>\n",
       "      <td>0.500000</td>\n",
       "      <td>0.500000</td>\n",
       "      <td>0.500330</td>\n",
       "    </tr>\n",
       "    <tr>\n",
       "      <th>16</th>\n",
       "      <td>0.500000</td>\n",
       "      <td>0.500000</td>\n",
       "      <td>0.450200</td>\n",
       "    </tr>\n",
       "  </tbody>\n",
       "</table>\n",
       "<p>83 rows × 3 columns</p>\n",
       "</div>"
      ],
      "text/plain": [
       "                 TrainAUC    ValAUC  trainerror\n",
       "hl1 hl2 hl3 hl4                                \n",
       "20  4   0   0    0.652195  0.649863    0.453868\n",
       "        1   0    0.665983  0.663885    0.440015\n",
       "        2   0    0.574531  0.573650    0.462162\n",
       "    10  0   0    0.653151  0.650859    0.452418\n",
       "        3   0    0.648865  0.646818    0.437195\n",
       "        7   0    0.668435  0.666682    0.439296\n",
       "            2    0.648524  0.646619    0.439498\n",
       "    16  0   0    0.653465  0.651353    0.454695\n",
       "        4   0    0.649218  0.647546    0.439183\n",
       "        11  0    0.649896  0.647734    0.437225\n",
       "            3    0.647870  0.646158    0.439441\n",
       "25  5   0   0    0.588232  0.587399    0.469568\n",
       "        1   0    0.500002  0.500041    0.455623\n",
       "        3   0    0.500000  0.500007    0.452017\n",
       "    12  0   0    0.500000  0.500000    0.548130\n",
       "        3   0    0.500000  0.500000    0.451875\n",
       "        8   0    0.499986  0.499855    0.471298\n",
       "            2    0.500000  0.500046    0.458558\n",
       "    20  0   0    0.500000  0.500000    0.453025\n",
       "        6   0    0.500000  0.500000    0.500465\n",
       "        14  0    0.500000  0.500000    0.502230\n",
       "            4    0.500000  0.500000    0.451145\n",
       "30  6   0   0    0.653465  0.651267    0.435531\n",
       "        1   0    0.647296  0.645819    0.439021\n",
       "        4   0    0.649614  0.647572    0.440972\n",
       "            1    0.663836  0.662532    0.441051\n",
       "    15  0   0    0.661770  0.658937    0.437858\n",
       "        4   0    0.652380  0.649943    0.438358\n",
       "        10  0    0.650750  0.648647    0.451609\n",
       "            3    0.647858  0.645935    0.438829\n",
       "...                   ...       ...         ...\n",
       "40  32  22  6    0.649420  0.647606    0.454468\n",
       "50  10  0   0    0.500000  0.500000    0.450230\n",
       "        3   0    0.500000  0.500000    0.502145\n",
       "        7   0    0.500000  0.500000    0.502835\n",
       "            2    0.499992  0.499995    0.462300\n",
       "    25  0   0    0.597799  0.594001    0.464253\n",
       "        7   0    0.500000  0.500000    0.501390\n",
       "        12  0    0.696872  0.687238    0.429241\n",
       "            6    0.695561  0.687695    0.430623\n",
       "        17  0    0.500000  0.500000    0.500390\n",
       "            5    0.500000  0.500000    0.500110\n",
       "    35  0   0    0.696829  0.687513    0.430103\n",
       "        17  0    0.696927  0.686738    0.430175\n",
       "            8    0.697992  0.686933    0.429380\n",
       "    40  0   0    0.500000  0.500000    0.501435\n",
       "        12  0    0.500000  0.500000    0.450690\n",
       "        28  0    0.500000  0.500000    0.549350\n",
       "            8    0.500000  0.500000    0.501530\n",
       "100 20  0   0    0.500000  0.500000    0.499295\n",
       "        6   0    0.500000  0.500000    0.498540\n",
       "        14  0    0.500000  0.500000    0.500655\n",
       "            4    0.500000  0.500000    0.499420\n",
       "    50  0   0    0.500000  0.500000    0.549655\n",
       "        15  0    0.500000  0.500000    0.450830\n",
       "        35  0    0.500000  0.500000    0.548615\n",
       "            10   0.500000  0.500000    0.453260\n",
       "    80  0   0    0.500000  0.500000    0.548845\n",
       "        24  0    0.500000  0.500000    0.452325\n",
       "        56  0    0.500000  0.500000    0.500330\n",
       "            16   0.500000  0.500000    0.450200\n",
       "\n",
       "[83 rows x 3 columns]"
      ]
     },
     "execution_count": 74,
     "metadata": {},
     "output_type": "execute_result"
    }
   ],
   "source": [
    "res[res.trainsize>10000].groupby(by=['hl1','hl2','hl3','hl4'])[['TrainAUC','ValAUC','trainerror']].mean()"
   ]
  },
  {
   "cell_type": "code",
   "execution_count": 76,
   "metadata": {},
   "outputs": [
    {
     "data": {
      "image/png": "[encoded data removed]",
      "text/plain": [
       "<matplotlib.figure.Figure at 0x5a993748>"
      ]
     },
     "metadata": {},
     "output_type": "display_data"
    }
   ],
   "source": [
    "fig = plt.figure(figsize=(20,10))\n",
    "sns.set_style(\"whitegrid\")\n",
    "ax = sns.barplot(x=\"hl12\", y=\"ValAUC\", hue = \"nhl\", data=res)#, errwidth=0.0)\n",
    "ax.legend(loc = 2,fontsize = 'xx-large')\n",
    "plt.ylim([0.0,1.0])\n",
    "tit = plt.title('Validation AUC as a function of Number of Hidden Layers and 1st two layer size', fontsize = 'xx-large')\n",
    "\n"
   ]
  },
  {
   "cell_type": "markdown",
   "metadata": {},
   "source": [
    "Best validation AUC was achieved using 2 layers, with proportion of ~50:35, 32:22, 32:16"
   ]
  },
  {
   "cell_type": "code",
   "execution_count": 78,
   "metadata": {},
   "outputs": [
    {
     "data": {
      "image/png": "[encoded data removed]",
      "text/plain": [
       "<matplotlib.figure.Figure at 0x48b135f8>"
      ]
     },
     "metadata": {},
     "output_type": "display_data"
    }
   ],
   "source": [
    "fig = plt.figure(figsize=(20,10))\n",
    "sns.set_style(\"whitegrid\")\n",
    "ax = sns.barplot(x=\"totalnodes\", y=\"ValAUC\", hue = \"nhl\", data=res)#, errwidth=1.0)\n",
    "ax.legend(loc = 2,fontsize = 'xx-large')\n",
    "plt.ylim([0.0,1.0])\n",
    "tit = plt.title('Validation AUC as a function of Number of Hidden Layers and total number of nodes', fontsize = 'xx-large')"
   ]
  },
  {
   "cell_type": "code",
   "execution_count": 45,
   "metadata": {},
   "outputs": [
    {
     "name": "stderr",
     "output_type": "stream",
     "text": [
      "C:\\Users\\Shuki\\Anaconda2\\lib\\site-packages\\ipykernel\\__main__.py:1: FutureWarning: sort(columns=....) is deprecated, use sort_values(by=.....)\n",
      "  if __name__ == '__main__':\n"
     ]
    },
    {
     "data": {
      "text/html": [
       "<div>\n",
       "<table border=\"1\" class=\"dataframe\">\n",
       "  <thead>\n",
       "    <tr style=\"text-align: right;\">\n",
       "      <th></th>\n",
       "      <th>alpha</th>\n",
       "      <th>batch</th>\n",
       "      <th>trainsize</th>\n",
       "      <th>epochs</th>\n",
       "      <th>trainerror</th>\n",
       "      <th>TrainAUC</th>\n",
       "      <th>ValAUC</th>\n",
       "      <th>hl1</th>\n",
       "      <th>hl2</th>\n",
       "      <th>hl3</th>\n",
       "      <th>hl4</th>\n",
       "      <th>nhl</th>\n",
       "      <th>hl12</th>\n",
       "      <th>totalnodes</th>\n",
       "    </tr>\n",
       "  </thead>\n",
       "  <tbody>\n",
       "    <tr>\n",
       "      <th>25</th>\n",
       "      <td>0.001</td>\n",
       "      <td>500</td>\n",
       "      <td>284641</td>\n",
       "      <td>500000</td>\n",
       "      <td>0.432074</td>\n",
       "      <td>0.693237</td>\n",
       "      <td>0.688970</td>\n",
       "      <td>50</td>\n",
       "      <td>35</td>\n",
       "      <td>17</td>\n",
       "      <td>8</td>\n",
       "      <td>4</td>\n",
       "      <td>50 : 35</td>\n",
       "      <td>110</td>\n",
       "    </tr>\n",
       "    <tr>\n",
       "      <th>26</th>\n",
       "      <td>0.001</td>\n",
       "      <td>500</td>\n",
       "      <td>284641</td>\n",
       "      <td>500000</td>\n",
       "      <td>0.433033</td>\n",
       "      <td>0.692874</td>\n",
       "      <td>0.688918</td>\n",
       "      <td>50</td>\n",
       "      <td>35</td>\n",
       "      <td>0</td>\n",
       "      <td>0</td>\n",
       "      <td>2</td>\n",
       "      <td>50 : 35</td>\n",
       "      <td>90</td>\n",
       "    </tr>\n",
       "    <tr>\n",
       "      <th>16</th>\n",
       "      <td>0.010</td>\n",
       "      <td>500</td>\n",
       "      <td>284641</td>\n",
       "      <td>500000</td>\n",
       "      <td>0.429991</td>\n",
       "      <td>0.696398</td>\n",
       "      <td>0.688882</td>\n",
       "      <td>32</td>\n",
       "      <td>16</td>\n",
       "      <td>8</td>\n",
       "      <td>0</td>\n",
       "      <td>3</td>\n",
       "      <td>32 : 16</td>\n",
       "      <td>60</td>\n",
       "    </tr>\n",
       "    <tr>\n",
       "      <th>27</th>\n",
       "      <td>0.001</td>\n",
       "      <td>500</td>\n",
       "      <td>284641</td>\n",
       "      <td>500000</td>\n",
       "      <td>0.431971</td>\n",
       "      <td>0.693212</td>\n",
       "      <td>0.688867</td>\n",
       "      <td>50</td>\n",
       "      <td>35</td>\n",
       "      <td>17</td>\n",
       "      <td>0</td>\n",
       "      <td>3</td>\n",
       "      <td>50 : 35</td>\n",
       "      <td>100</td>\n",
       "    </tr>\n",
       "    <tr>\n",
       "      <th>32</th>\n",
       "      <td>0.001</td>\n",
       "      <td>500</td>\n",
       "      <td>284641</td>\n",
       "      <td>500000</td>\n",
       "      <td>0.432293</td>\n",
       "      <td>0.693443</td>\n",
       "      <td>0.688830</td>\n",
       "      <td>50</td>\n",
       "      <td>35</td>\n",
       "      <td>17</td>\n",
       "      <td>0</td>\n",
       "      <td>3</td>\n",
       "      <td>50 : 35</td>\n",
       "      <td>100</td>\n",
       "    </tr>\n",
       "  </tbody>\n",
       "</table>\n",
       "</div>"
      ],
      "text/plain": [
       "    alpha  batch  trainsize  epochs  trainerror  TrainAUC    ValAUC  hl1  hl2  \\\n",
       "25  0.001    500     284641  500000    0.432074  0.693237  0.688970   50   35   \n",
       "26  0.001    500     284641  500000    0.433033  0.692874  0.688918   50   35   \n",
       "16  0.010    500     284641  500000    0.429991  0.696398  0.688882   32   16   \n",
       "27  0.001    500     284641  500000    0.431971  0.693212  0.688867   50   35   \n",
       "32  0.001    500     284641  500000    0.432293  0.693443  0.688830   50   35   \n",
       "\n",
       "    hl3  hl4  nhl     hl12  totalnodes  \n",
       "25   17    8    4  50 : 35         110  \n",
       "26    0    0    2  50 : 35          90  \n",
       "16    8    0    3  32 : 16          60  \n",
       "27   17    0    3  50 : 35         100  \n",
       "32   17    0    3  50 : 35         100  "
      ]
     },
     "execution_count": 45,
     "metadata": {},
     "output_type": "execute_result"
    }
   ],
   "source": [
    "best = res.sort(columns='ValAUC',ascending=False).head(5)\n",
    "best"
   ]
  },
  {
   "cell_type": "markdown",
   "metadata": {},
   "source": [
    "## Bonus1 - [Genetic Notebook](Genetic.ipynb) \n",
    "implements genetic optimization algorithm in order to maximize AIC criteria"
   ]
  },
  {
   "cell_type": "markdown",
   "metadata": {},
   "source": [
    "## Bonus2 - [Other Models Notebook](Other_models.ipynb) \n",
    "implements Random Forest, SVM and PCA in order to create benchmarks for prediction and find best features"
   ]
  }
 ],
 "metadata": {
  "anaconda-cloud": {},
  "kernelspec": {
   "display_name": "Python 2",
   "language": "python",
   "name": "python2"
  },
  "language_info": {
   "codemirror_mode": {
    "name": "ipython",
    "version": 2
   },
   "file_extension": ".py",
   "mimetype": "text/x-python",
   "name": "python",
   "nbconvert_exporter": "python",
   "pygments_lexer": "ipython2",
   "version": "2.7.13"
  }
 },
 "nbformat": 4,
 "nbformat_minor": 1
}
