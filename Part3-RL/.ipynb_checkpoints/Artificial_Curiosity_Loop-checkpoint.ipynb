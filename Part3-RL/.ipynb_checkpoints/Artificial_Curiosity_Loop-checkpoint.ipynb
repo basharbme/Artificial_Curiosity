{
 "cells": [
  {
   "cell_type": "markdown",
   "metadata": {},
   "source": [
    "### Part 3 - Artificial Curiosity Loop"
   ]
  },
  {
   "cell_type": "markdown",
   "metadata": {},
   "source": [
    "implementing Artficial Curiosity Loop using Actor-Critic approach and bayesian learning"
   ]
  },
  {
   "cell_type": "code",
   "execution_count": 1,
   "metadata": {},
   "outputs": [],
   "source": [
    "import pandas as pd\n",
    "import os\n",
    "from datetime import datetime\n",
    "import seaborn as sns\n",
    "import matplotlib.pyplot as plt\n",
    "import matplotlib as mpl\n",
    "from tqdm import tqdm, trange\n",
    "%matplotlib inline\n",
    "import numpy as np\n",
    "import scipy as sp\n",
    "from scipy.stats import beta \n",
    "from sklearn.utils import shuffle"
   ]
  },
  {
   "cell_type": "markdown",
   "metadata": {},
   "source": [
    "# PreProcess\n",
    "### Create dataset\n",
    "Remain only with the following features:  \n",
    "```action_type, shot_zone_area, position```"
   ]
  },
  {
   "cell_type": "code",
   "execution_count": 2,
   "metadata": {
    "collapsed": true
   },
   "outputs": [],
   "source": [
    "data = pd.read_csv('..\\\\dataset_ver1.csv')\n",
    "data = shuffle(data)\n",
    "dataset = data[[u'action_type', \n",
    "                 u'shot_made_flag',u'shot_zone_area', u'position']]"
   ]
  },
  {
   "cell_type": "markdown",
   "metadata": {},
   "source": [
    "### Filter the 'no shot' "
   ]
  },
  {
   "cell_type": "code",
   "execution_count": 3,
   "metadata": {
    "collapsed": true
   },
   "outputs": [],
   "source": [
    "dataset = dataset[dataset.action_type != 'No Shot']"
   ]
  },
  {
   "cell_type": "markdown",
   "metadata": {},
   "source": [
    "### convert ```action_type``` feature"
   ]
  },
  {
   "cell_type": "code",
   "execution_count": 4,
   "metadata": {
    "collapsed": true
   },
   "outputs": [],
   "source": [
    "dataset['action_type'] = dataset.action_type.apply(lambda x: x.split(' ')[-2])"
   ]
  },
  {
   "cell_type": "markdown",
   "metadata": {},
   "source": [
    "### Unite Positions"
   ]
  },
  {
   "cell_type": "code",
   "execution_count": 5,
   "metadata": {
    "collapsed": true
   },
   "outputs": [],
   "source": [
    "def transpos(position):\n",
    "    '''transfers position to numeric value (10-50)'''\n",
    "    dic = {'Guard':'G', 'Center':'C', 'Forward':'F', 'Guard-Forward':'G', 'Center-Forward':'C',\n",
    "       'Forward-Center':'F', 'Forward-Guard':'F'}\n",
    "    return dic[position]\n",
    "dataset['position_sign'] = dataset.position.apply(transpos)\n",
    "dataset.drop('position', axis=1,inplace=True)"
   ]
  },
  {
   "cell_type": "code",
   "execution_count": 6,
   "metadata": {
    "scrolled": true
   },
   "outputs": [
    {
     "data": {
      "text/plain": [
       "position_sign\n",
       "C     58514\n",
       "F    161923\n",
       "G    189348\n",
       "dtype: int64"
      ]
     },
     "execution_count": 6,
     "metadata": {},
     "output_type": "execute_result"
    }
   ],
   "source": [
    "dataset.groupby('position_sign', as_index=False).size()"
   ]
  },
  {
   "cell_type": "code",
   "execution_count": 7,
   "metadata": {},
   "outputs": [
    {
     "data": {
      "text/plain": [
       "action_type\n",
       "Bank          7260\n",
       "Dunk         19775\n",
       "Fadeaway      2840\n",
       "Hook         15348\n",
       "Jump        261556\n",
       "Layup        98816\n",
       "Tip           4190\n",
       "dtype: int64"
      ]
     },
     "execution_count": 7,
     "metadata": {},
     "output_type": "execute_result"
    }
   ],
   "source": [
    "dataset.groupby('action_type', as_index=False).size()"
   ]
  },
  {
   "cell_type": "code",
   "execution_count": 8,
   "metadata": {},
   "outputs": [
    {
     "data": {
      "text/plain": [
       "shot_zone_area\n",
       "Back Court(BC)              976\n",
       "Center(C)                224970\n",
       "Left Side Center(LC)      47292\n",
       "Left Side(L)              45767\n",
       "Right Side Center(RC)     47472\n",
       "Right Side(R)             43308\n",
       "dtype: int64"
      ]
     },
     "execution_count": 8,
     "metadata": {},
     "output_type": "execute_result"
    }
   ],
   "source": [
    "dataset.groupby('shot_zone_area', as_index=False).size()"
   ]
  },
  {
   "cell_type": "code",
   "execution_count": 9,
   "metadata": {
    "scrolled": true
   },
   "outputs": [
    {
     "data": {
      "text/html": [
       "<div>\n",
       "<style>\n",
       "    .dataframe thead tr:only-child th {\n",
       "        text-align: right;\n",
       "    }\n",
       "\n",
       "    .dataframe thead th {\n",
       "        text-align: left;\n",
       "    }\n",
       "\n",
       "    .dataframe tbody tr th {\n",
       "        vertical-align: top;\n",
       "    }\n",
       "</style>\n",
       "<table border=\"1\" class=\"dataframe\">\n",
       "  <thead>\n",
       "    <tr style=\"text-align: right;\">\n",
       "      <th></th>\n",
       "      <th>action_type</th>\n",
       "      <th>label</th>\n",
       "      <th>shot_zone_area</th>\n",
       "      <th>position_sign</th>\n",
       "    </tr>\n",
       "  </thead>\n",
       "  <tbody>\n",
       "    <tr>\n",
       "      <th>147700</th>\n",
       "      <td>Layup</td>\n",
       "      <td>1</td>\n",
       "      <td>Center(C)</td>\n",
       "      <td>G</td>\n",
       "    </tr>\n",
       "    <tr>\n",
       "      <th>277379</th>\n",
       "      <td>Jump</td>\n",
       "      <td>0</td>\n",
       "      <td>Right Side Center(RC)</td>\n",
       "      <td>G</td>\n",
       "    </tr>\n",
       "    <tr>\n",
       "      <th>8685</th>\n",
       "      <td>Jump</td>\n",
       "      <td>1</td>\n",
       "      <td>Right Side Center(RC)</td>\n",
       "      <td>G</td>\n",
       "    </tr>\n",
       "    <tr>\n",
       "      <th>162420</th>\n",
       "      <td>Layup</td>\n",
       "      <td>1</td>\n",
       "      <td>Center(C)</td>\n",
       "      <td>F</td>\n",
       "    </tr>\n",
       "    <tr>\n",
       "      <th>119146</th>\n",
       "      <td>Dunk</td>\n",
       "      <td>1</td>\n",
       "      <td>Center(C)</td>\n",
       "      <td>F</td>\n",
       "    </tr>\n",
       "  </tbody>\n",
       "</table>\n",
       "</div>"
      ],
      "text/plain": [
       "       action_type  label         shot_zone_area position_sign\n",
       "147700       Layup      1              Center(C)             G\n",
       "277379        Jump      0  Right Side Center(RC)             G\n",
       "8685          Jump      1  Right Side Center(RC)             G\n",
       "162420       Layup      1              Center(C)             F\n",
       "119146        Dunk      1              Center(C)             F"
      ]
     },
     "execution_count": 9,
     "metadata": {},
     "output_type": "execute_result"
    }
   ],
   "source": [
    "dataset.rename(columns={'shot_made_flag' : 'label'}, inplace=True)\n",
    "dataset.head()"
   ]
  },
  {
   "cell_type": "markdown",
   "metadata": {},
   "source": [
    "### Filter the rare shots (by the combinations of the features)"
   ]
  },
  {
   "cell_type": "code",
   "execution_count": 10,
   "metadata": {
    "collapsed": true
   },
   "outputs": [],
   "source": [
    "d = dataset.groupby(by=['action_type', 'shot_zone_area','position_sign'] ,as_index=False)['label'].size().reset_index()\n",
    "d.columns = list(d.columns[:-1]) + ['shots_count']\n",
    "d= d[d.shots_count <=10]\n",
    "d['concat_it'] = d.apply(lambda x: x.action_type +'_'+ x.shot_zone_area +'_' + x.position_sign, axis=1)"
   ]
  },
  {
   "cell_type": "code",
   "execution_count": 11,
   "metadata": {},
   "outputs": [
    {
     "data": {
      "text/html": [
       "<div>\n",
       "<style>\n",
       "    .dataframe thead tr:only-child th {\n",
       "        text-align: right;\n",
       "    }\n",
       "\n",
       "    .dataframe thead th {\n",
       "        text-align: left;\n",
       "    }\n",
       "\n",
       "    .dataframe tbody tr th {\n",
       "        vertical-align: top;\n",
       "    }\n",
       "</style>\n",
       "<table border=\"1\" class=\"dataframe\">\n",
       "  <thead>\n",
       "    <tr style=\"text-align: right;\">\n",
       "      <th></th>\n",
       "      <th>action_type</th>\n",
       "      <th>shot_zone_area</th>\n",
       "      <th>position_sign</th>\n",
       "      <th>label</th>\n",
       "    </tr>\n",
       "  </thead>\n",
       "  <tbody>\n",
       "    <tr>\n",
       "      <th>0</th>\n",
       "      <td>Bank</td>\n",
       "      <td>Center(C)</td>\n",
       "      <td>C</td>\n",
       "      <td>0.694309</td>\n",
       "    </tr>\n",
       "    <tr>\n",
       "      <th>1</th>\n",
       "      <td>Bank</td>\n",
       "      <td>Center(C)</td>\n",
       "      <td>F</td>\n",
       "      <td>0.641696</td>\n",
       "    </tr>\n",
       "    <tr>\n",
       "      <th>2</th>\n",
       "      <td>Bank</td>\n",
       "      <td>Center(C)</td>\n",
       "      <td>G</td>\n",
       "      <td>0.648091</td>\n",
       "    </tr>\n",
       "    <tr>\n",
       "      <th>3</th>\n",
       "      <td>Bank</td>\n",
       "      <td>Left Side Center(LC)</td>\n",
       "      <td>F</td>\n",
       "      <td>0.576923</td>\n",
       "    </tr>\n",
       "    <tr>\n",
       "      <th>4</th>\n",
       "      <td>Bank</td>\n",
       "      <td>Left Side Center(LC)</td>\n",
       "      <td>G</td>\n",
       "      <td>0.570175</td>\n",
       "    </tr>\n",
       "  </tbody>\n",
       "</table>\n",
       "</div>"
      ],
      "text/plain": [
       "  action_type        shot_zone_area position_sign     label\n",
       "0        Bank             Center(C)             C  0.694309\n",
       "1        Bank             Center(C)             F  0.641696\n",
       "2        Bank             Center(C)             G  0.648091\n",
       "3        Bank  Left Side Center(LC)             F  0.576923\n",
       "4        Bank  Left Side Center(LC)             G  0.570175"
      ]
     },
     "execution_count": 11,
     "metadata": {},
     "output_type": "execute_result"
    }
   ],
   "source": [
    "good_set = set(d.concat_it.unique())\n",
    "msk = dataset.apply(lambda x: x.action_type +'_'+ x.shot_zone_area +'_' + x.position_sign in good_set, axis=1)\n",
    "dataset = dataset[~msk]\n",
    "dataset.groupby(by=['action_type', 'shot_zone_area','position_sign'] ,as_index=False)['label'].mean().head()"
   ]
  },
  {
   "cell_type": "markdown",
   "metadata": {},
   "source": [
    "And now the possible shot probabilities are within  "
   ]
  },
  {
   "cell_type": "code",
   "execution_count": 12,
   "metadata": {
    "scrolled": true
   },
   "outputs": [
    {
     "name": "stdout",
     "output_type": "stream",
     "text": [
      "min  0.0204081632653\n",
      "max  0.914912990692\n"
     ]
    }
   ],
   "source": [
    "print 'min ',dataset.groupby(by=['action_type', 'shot_zone_area','position_sign'] ,as_index=False)['label'].mean()['label'].min()\n",
    "print 'max ',dataset.groupby(by=['action_type', 'shot_zone_area','position_sign'] ,as_index=False)['label'].mean()['label'].max()"
   ]
  },
  {
   "cell_type": "markdown",
   "metadata": {},
   "source": [
    "Global Prior (the chance to score):"
   ]
  },
  {
   "cell_type": "code",
   "execution_count": 13,
   "metadata": {},
   "outputs": [
    {
     "data": {
      "text/plain": [
       "0.4516359713564675"
      ]
     },
     "execution_count": 13,
     "metadata": {},
     "output_type": "execute_result"
    }
   ],
   "source": [
    "PriorY = dataset.label.mean()\n",
    "PriorY"
   ]
  },
  {
   "cell_type": "markdown",
   "metadata": {},
   "source": [
    "### Calculate Posterior and InformationGain"
   ]
  },
  {
   "cell_type": "code",
   "execution_count": 14,
   "metadata": {
    "collapsed": true
   },
   "outputs": [],
   "source": [
    "def new_actions(test):\n",
    "    ''' samples 5 possible actions from the given test set'''\n",
    "    C = test[test.position_sign == 'C'].sample(1)\n",
    "    G = test[test.position_sign == 'G'].sample(2)\n",
    "    F = test[test.position_sign == 'F'].sample(2)\n",
    "    return pd.concat([C,G,F])"
   ]
  },
  {
   "cell_type": "code",
   "execution_count": 15,
   "metadata": {
    "collapsed": true
   },
   "outputs": [],
   "source": [
    "def softmax(lista):\n",
    "    '''returns the softmax numpy array of lista'''\n",
    "    e = np.exp(np.array(lista))\n",
    "    return e / np.sum(e)"
   ]
  },
  {
   "cell_type": "code",
   "execution_count": 16,
   "metadata": {
    "collapsed": true
   },
   "outputs": [],
   "source": [
    "def weighted_avg(lista, q):\n",
    "    '''returns the weighted probabilities'''\n",
    "    lista = np.power(lista,q)\n",
    "    return lista / sum(lista)"
   ]
  },
  {
   "cell_type": "code",
   "execution_count": 17,
   "metadata": {
    "collapsed": true
   },
   "outputs": [],
   "source": [
    "def IG(a,b,label):\n",
    "    ''' calculates the information gain, based on the result of the shot'''\n",
    "    prior = beta(a,b)\n",
    "    if label:\n",
    "        shot_post = beta(a+1,b)\n",
    "        return prior.entropy() - shot_post.entropy()\n",
    "    else:\n",
    "        miss_post = beta(a,b+1)\n",
    "        return prior.entropy() - miss_post.entropy()"
   ]
  },
  {
   "cell_type": "code",
   "execution_count": 18,
   "metadata": {
    "collapsed": true
   },
   "outputs": [],
   "source": [
    "def EIG(tup):\n",
    "    '''returns the expected IG'''\n",
    "    prior = beta(tup[0],tup[1])\n",
    "    shot_IG = IG(tup[0],tup[1],1)\n",
    "    miss_IG = IG(tup[0],tup[1],0)\n",
    "    try: exp = prior.expect()\n",
    "    except: exp = tup[0]*1.0/(tup[0]+tup[1])\n",
    "    return exp*shot_IG + (1-exp)*miss_IG # expectation calculation"
   ]
  },
  {
   "cell_type": "code",
   "execution_count": 19,
   "metadata": {
    "collapsed": true
   },
   "outputs": [],
   "source": [
    "def get_probabilities(df_row, ModelEvidence):\n",
    "    ''' returns a tuple of count(X|Y=1),count(X|Y=0)'''\n",
    "    return ModelEvidence.get((df_row['action_type'], df_row['shot_zone_area'], df_row['position_sign']),(1,1))\n",
    "  "
   ]
  },
  {
   "cell_type": "code",
   "execution_count": 20,
   "metadata": {
    "collapsed": true
   },
   "outputs": [],
   "source": [
    "def predict(df_row, ModelEvidence):\n",
    "    tup = get_probabilities(df_row, ModelEvidence)\n",
    "    return float(tup[0])/(tup[0]+tup[1])"
   ]
  },
  {
   "cell_type": "code",
   "execution_count": 21,
   "metadata": {
    "collapsed": true
   },
   "outputs": [],
   "source": [
    "def critic(ModelEvidence, new_actions, lamda):\n",
    "    '''gets the bayesian learners, 5 actions and returns the EIG for each action,  lamda is the weight of curiosity'''\n",
    "    func_value,probs,eigs = [],[],[]\n",
    "    for i in range(len(new_actions)):\n",
    "        p =predict(new_actions.iloc[i], ModelEvidence)\n",
    "        eig = EIG(get_probabilities(new_actions.iloc[i], ModelEvidence))\n",
    "        probs.append(p)\n",
    "        eigs.append(eig)\n",
    "        func_value.append(100*lamda*eig + (1-lamda)*p)    \n",
    "        \n",
    "    return func_value,probs,eigs"
   ]
  },
  {
   "cell_type": "code",
   "execution_count": 22,
   "metadata": {
    "collapsed": true
   },
   "outputs": [],
   "source": [
    "def actor(func_value, new_actions):\n",
    "    '''gets the predicted values for each new_actions and outputs the chosen one'''\n",
    "    func_value = weighted_avg(func_value,q=3)\n",
    "    result =np.random.choice(range(len(new_actions)), 1, p=func_value)\n",
    "    maxx = np.argmax(func_value)\n",
    "    return result[0], maxx==result[0]"
   ]
  },
  {
   "cell_type": "code",
   "execution_count": 23,
   "metadata": {
    "collapsed": true
   },
   "outputs": [],
   "source": [
    "def iteration(actions, ModelEvidence, lamda):\n",
    "    '''one iteration in the Q loop, lamda is the weight of curiosity\n",
    "        returns updated model, chosen action, score, probability, error(missing), eig and ig'''\n",
    "    scores, probs,eigs = critic(ModelEvidence, actions, lamda)\n",
    "    ind, same = actor(scores, actions) # chosen shoot, and its index\n",
    "    choice = actions.iloc[ind]\n",
    "    score,p,eig=scores[ind], probs[ind], eigs[ind]\n",
    "    err = (p-choice['label'])**2\n",
    "    tup = get_probabilities(actions.iloc[ind],ModelEvidence)\n",
    "    ig = IG(tup[0],tup[1],choice['label'])\n",
    "    \n",
    "    key = (choice['action_type'], choice['shot_zone_area'], choice['position_sign'])\n",
    "    ModelEvidence = update_evidence(key, choice['label'].max(), ModelEvidence)\n",
    "    \n",
    "    return ModelEvidence, choice, score,p, err, eig, ig, int(same), ind"
   ]
  },
  {
   "cell_type": "markdown",
   "metadata": {},
   "source": [
    "## Curiosity Loop:\n",
    "![](loop.png)"
   ]
  },
  {
   "cell_type": "markdown",
   "metadata": {},
   "source": [
    "[read more in the presentation](../Pres.pdf)"
   ]
  },
  {
   "cell_type": "markdown",
   "metadata": {},
   "source": [
    "## Simulation - \"New-born\" AI agent takes shots from diffent positions and learns the success of each shot, while trying to score as much as possible"
   ]
  },
  {
   "cell_type": "markdown",
   "metadata": {},
   "source": [
    "## A Game"
   ]
  },
  {
   "cell_type": "code",
   "execution_count": 24,
   "metadata": {
    "collapsed": true,
    "scrolled": true
   },
   "outputs": [],
   "source": [
    "def game(players_evidence, test,lamda, rounds = 100):\n",
    "    ''' a game played by a single player'''\n",
    "    i,points = 0, [[],[],[]]\n",
    "    same = [0,0,0]\n",
    "#     for po in range(len(lamda_list)): same[po] =0\n",
    "    Score,Prob,Err,ExpIG,RealIG,Indexes,choices = [[],[],[]],[[],[],[]],[[],[],[]],[[],[],[]],[[],[],[]],[[],[],[]],[[],[],[]] # stats documentation\n",
    "#     same = []\n",
    "    for i in trange(rounds):\n",
    "        if len(test) == 0:\n",
    "            break\n",
    "        actions = new_actions(test)\n",
    "        for pl in range(len(players_evidence)):\n",
    "            players_evidence[pl], choice, score,p, err, eig, ig, sm, ind= iteration(actions, players_evidence[pl], lamda[pl])\n",
    "            same[pl] += int(sm)\n",
    "            points[pl].append(choice['label'])\n",
    "            Score[pl].append(score)\n",
    "            ExpIG[pl].append(eig)\n",
    "            RealIG[pl].append(ig)\n",
    "            Err[pl].append(err)\n",
    "            Prob[pl].append(p)\n",
    "            Indexes[pl].append(ind)\n",
    "            choices[pl].append(choice)\n",
    "        test = test.drop(actions.index) # remove the possible actions... (we used it)\n",
    "    return players_evidence, test, points, Score, ExpIG, RealIG, Prob, Err, same, Indexes,choices"
   ]
  },
  {
   "cell_type": "markdown",
   "metadata": {},
   "source": [
    "# Bayesian Inference"
   ]
  },
  {
   "cell_type": "code",
   "execution_count": 25,
   "metadata": {
    "collapsed": true
   },
   "outputs": [],
   "source": [
    "def Posterior(sample,cols,ModelEvidence):\n",
    "    ''' calculated Naive bayes posterior based on Prior and evidence'''\n",
    "    total = ModelEvidence['all'] # all train set\n",
    "    Prior = total[0]*1.0/(total[0]+total[1])\n",
    "    Post = Prior # P(Y=1) Precalc\n",
    "    for ev in cols:\n",
    "        Post = Post*ModelEvidence[ev][sample[ev]][0]/total[0] # P(X|Y)\n",
    "        Post = Post/(sum(ModelEvidence[ev][sample[ev]])/sum(total)) # P(X)\n",
    "    return Post"
   ]
  },
  {
   "cell_type": "code",
   "execution_count": 26,
   "metadata": {
    "collapsed": true
   },
   "outputs": [],
   "source": [
    "def update_evidence(key, label, ModelEvidence):\n",
    "    ''' update the ModelEvidence with the input'''\n",
    "    if key in ModelEvidence:\n",
    "        ModelEvidence[key] = (ModelEvidence[key][0]+label, ModelEvidence[key][1]+(1-label))\n",
    "    else:\n",
    "        ModelEvidence[key] = (1 +label, 1+(1-label))\n",
    "    return ModelEvidence"
   ]
  },
  {
   "cell_type": "markdown",
   "metadata": {},
   "source": [
    "### Build the ModelEvidence on the train set\n",
    "## 3 Players"
   ]
  },
  {
   "cell_type": "markdown",
   "metadata": {},
   "source": [
    "### Set the initial dataset"
   ]
  },
  {
   "cell_type": "code",
   "execution_count": 27,
   "metadata": {
    "collapsed": true
   },
   "outputs": [],
   "source": [
    "TrainSize= 0 # prior knowledge\n",
    "TestSize = 20000\n",
    "ValSize = 20000\n",
    "train=dataset[:TrainSize]\n",
    "test=dataset[TrainSize:TrainSize+TestSize]\n",
    "validation = dataset[TrainSize+TestSize:TrainSize+TestSize+ValSize]"
   ]
  },
  {
   "cell_type": "code",
   "execution_count": 28,
   "metadata": {
    "collapsed": true
   },
   "outputs": [],
   "source": [
    "# initial knowledge\n",
    "ModelEvidence = {}\n",
    "for ind, value in train.iterrows():\n",
    "    key = (value['action_type'], value['shot_zone_area'],value['position_sign'])\n",
    "    label = value['label']\n",
    "    ModelEvidence = update_evidence(key, label, ModelEvidence)"
   ]
  },
  {
   "cell_type": "code",
   "execution_count": 29,
   "metadata": {
    "collapsed": true
   },
   "outputs": [],
   "source": [
    "nameslist = ['Greedy','Balanced','Curious']"
   ]
  },
  {
   "cell_type": "code",
   "execution_count": 30,
   "metadata": {
    "collapsed": true
   },
   "outputs": [],
   "source": [
    "# teach all players initial knowledge (default=0)\n",
    "players_evidence =[]\n",
    "lamda_list=[0,0.1,1]\n",
    "rounds = 2500\n",
    "for p in range(len(lamda_list)):\n",
    "    players_evidence.append(ModelEvidence.copy())"
   ]
  },
  {
   "cell_type": "code",
   "execution_count": 31,
   "metadata": {},
   "outputs": [
    {
     "name": "stdout",
     "output_type": "stream",
     "text": [
      "began at 2017-01-20 19:40:51.798000\n"
     ]
    },
    {
     "name": "stderr",
     "output_type": "stream",
     "text": [
      "100%|██████████████████████████████████████| 2500/2500 [07:08<00:00,  5.30it/s]\n"
     ]
    },
    {
     "name": "stdout",
     "output_type": "stream",
     "text": [
      "ended at  2017-01-20 19:48:00.492000\n"
     ]
    }
   ],
   "source": [
    "# Play a Game\n",
    "print 'began at' , datetime.now()\n",
    "players_evidence, test, points, Score, ExpIG,  RealIG, Prob, Err, same, indexes, choices = game(players_evidence, test,lamda = lamda_list, rounds=rounds)\n",
    "print 'ended at ', datetime.now()"
   ]
  },
  {
   "cell_type": "markdown",
   "metadata": {},
   "source": [
    "###  Information Gain: Expectation - Real"
   ]
  },
  {
   "cell_type": "code",
   "execution_count": 32,
   "metadata": {},
   "outputs": [
    {
     "data": {
      "image/png": "[encoded data removed]",
      "text/plain": [
       "<matplotlib.figure.Figure at 0xfdf62278>"
      ]
     },
     "metadata": {},
     "output_type": "display_data"
    }
   ],
   "source": [
    "IG_delta_plot = [[],[],[]]\n",
    "ls =[[],[],[]]\n",
    "players = 3\n",
    "k=500\n",
    "for pl in range(players):\n",
    "    for i in range(len(ExpIG[pl])-k):\n",
    "        ls[pl] = [x1 - x2 for (x1, x2) in zip(ExpIG[pl], RealIG[pl])]\n",
    "        IG_delta_plot[pl].append(sum(ls[pl][i:i+k])/k)\n",
    "        \n",
    "        \n",
    "legend_tl = []\n",
    "for pl in range(len(IG_delta_plot)):\n",
    "    plt.plot(range(len(IG_delta_plot[pl])), IG_delta_plot[pl])\n",
    "    legend_tl.append('lamda = '+str(lamda_list[pl]))\n",
    "plt.legend(legend_tl)\n",
    "plt.ylabel('IG delta (expected - real)')\n",
    "plt.xlabel('iteration')\n",
    "plt.title('IG delta as a function of iteration, over 3 players')\n",
    "plt.show()"
   ]
  },
  {
   "cell_type": "markdown",
   "metadata": {},
   "source": [
    "### Expected IG on different $\\lambda$"
   ]
  },
  {
   "cell_type": "code",
   "execution_count": 33,
   "metadata": {
    "scrolled": true
   },
   "outputs": [
    {
     "data": {
      "image/png": "[encoded data removed]",
      "text/plain": [
       "<matplotlib.figure.Figure at 0xfe0763c8>"
      ]
     },
     "metadata": {},
     "output_type": "display_data"
    }
   ],
   "source": [
    "ExpIG_plot = [[],[],[]]\n",
    "players = 3\n",
    "k=500\n",
    "\n",
    "for pl in range(players):\n",
    "    for i in range(2400):\n",
    "        ExpIG_plot[pl].append(sum(ExpIG[pl][i:i+k])/k)\n",
    "        \n",
    "legend_tl = []\n",
    "for pl in range(len(ExpIG_plot)):\n",
    "    plt.plot(range(len(ExpIG_plot[pl])), ExpIG_plot[pl])\n",
    "    legend_tl.append('lamda = '+str(lamda_list[pl]))\n",
    "plt.legend(legend_tl)\n",
    "plt.ylabel('EIG')\n",
    "plt.xlabel('iteration')\n",
    "plt.title('ExpIG as a function of iteration, over 3 players')\n",
    "plt.show()"
   ]
  },
  {
   "cell_type": "markdown",
   "metadata": {},
   "source": [
    "## Points"
   ]
  },
  {
   "cell_type": "code",
   "execution_count": 34,
   "metadata": {},
   "outputs": [
    {
     "data": {
      "image/png": "[encoded data removed]",
      "text/plain": [
       "<matplotlib.figure.Figure at 0xfe1cc3c8>"
      ]
     },
     "metadata": {},
     "output_type": "display_data"
    }
   ],
   "source": [
    "points_plot = [[],[],[]]\n",
    "for pl in range(len(points)):\n",
    "    points_plot[pl] = np.cumsum(np.array(points[pl]))\n",
    "legend_tl = []\n",
    "\n",
    "for pl in range(len(points_plot)):\n",
    "    plt.plot(range(rounds), points_plot[pl])\n",
    "    legend_tl.append('lambda = '+str(lamda_list[pl]))\n",
    "plt.plot(range(rounds), map(lambda x: x*PriorY,range(rounds)), '--')\n",
    "legend_tl.append('Random, P='+str(round(PriorY,3)))\n",
    "plt.legend(legend_tl,loc=2)\n",
    "plt.xlim([0,2000])\n",
    "plt.ylim([0,1400])\n",
    "plt.title('Points as a function of iteration, over 3 players')\n",
    "plt.show()"
   ]
  },
  {
   "cell_type": "markdown",
   "metadata": {},
   "source": [
    "# Error Plot"
   ]
  },
  {
   "cell_type": "code",
   "execution_count": 44,
   "metadata": {},
   "outputs": [
    {
     "data": {
      "image/png": "[encoded data removed]",
      "text/plain": [
       "<matplotlib.figure.Figure at 0xfebaf668>"
      ]
     },
     "metadata": {},
     "output_type": "display_data"
    }
   ],
   "source": [
    "Err_plot = [[],[],[]]\n",
    "players = 3\n",
    "k=250\n",
    "for pl in range(players): #smoothing\n",
    "    for i in range(k,len(Err[pl])-k):\n",
    "        Err_plot[pl].append(sum(Err[pl][i-k:i+k])/(2*k))\n",
    "        \n",
    "legend_tl = []\n",
    "for pl in range(len(Err_plot)):\n",
    "    plt.plot(range(len(Err_plot[pl])), Err_plot[pl])\n",
    "    legend_tl.append(' lambda = '+str(lamda_list[pl]))\n",
    "plt.legend(legend_tl, loc=1)\n",
    "plt.ylabel('Error')\n",
    "plt.xlabel('iteration')\n",
    "plt.ylim([0,0.35])\n",
    "plt.title('Error as a function of iteration, over 3 players')\n",
    "plt.show()"
   ]
  },
  {
   "cell_type": "markdown",
   "metadata": {},
   "source": [
    "# Probability Plot"
   ]
  },
  {
   "cell_type": "code",
   "execution_count": 80,
   "metadata": {},
   "outputs": [
    {
     "data": {
      "image/png": "[encoded data removed]",
      "text/plain": [
       "<matplotlib.figure.Figure at 0xfeb61eb8>"
      ]
     },
     "metadata": {},
     "output_type": "display_data"
    }
   ],
   "source": [
    "Prob_plot = [[],[],[]]\n",
    "players = 3\n",
    "k=20\n",
    "for pl in range(players): #smoothing\n",
    "    for i in range(k,2020):\n",
    "        Prob_plot[pl].append(sum(Prob[pl][i-k:i+k])/(2*k))\n",
    "        \n",
    "legend_tl = []\n",
    "for pl in range(len(Prob_plot)):\n",
    "    plt.plot(range(len(Prob_plot[pl])), Prob_plot[pl])\n",
    "    legend_tl.append(' lambda = '+str(lamda_list[pl]))\n",
    "\n",
    "plt.plot(range(2000), map(lambda x: PriorY,range(2000)), '--')\n",
    "legend_tl.append('Random, P='+str(round(PriorY,3)))\n",
    "plt.legend(legend_tl, loc=1)\n",
    "plt.ylabel('Prob')\n",
    "plt.xlabel('iteration')\n",
    "plt.ylim([0,1])\n",
    "plt.title('Probability as a function of iteration, over 3 players')\n",
    "plt.show()"
   ]
  },
  {
   "cell_type": "markdown",
   "metadata": {},
   "source": [
    "## Plot Roc (after 2000 iterations)"
   ]
  },
  {
   "cell_type": "code",
   "execution_count": 37,
   "metadata": {
    "collapsed": true
   },
   "outputs": [],
   "source": [
    "from sklearn.metrics import roc_auc_score, roc_curve\n",
    "#plot ROC\n",
    "def plot_ROC(Players,data,legend,title,scale='linear'):\n",
    "    AUC = []\n",
    "    fig2  = plt.figure()\n",
    "    for Pl in Players:\n",
    "        y_true ,y_scores = data.label,  data.apply(lambda x: predict(x,Pl), axis= 1)\n",
    "        fpr, tpr, _ = roc_curve(y_true.ravel(), y_scores.ravel())\n",
    "        AUC.append(roc_auc_score(y_true, y_scores))\n",
    "        plt.xlim([0.02,1.01])\n",
    "        plt.ylim([-0.01,1.02])\n",
    "        ax =plt.plot(fpr, tpr)\n",
    "    leg = zip(legend,AUC)\n",
    "    plt.yscale(scale)\n",
    "    plt.xscale(scale)\n",
    "    plt.title('ROC on '+title)\n",
    "    l = plt.legend(map(lambda x: str(x[0])+' AUC:'+str(round(x[1],4)),leg), loc = 4)\n",
    "    plt.show"
   ]
  },
  {
   "cell_type": "code",
   "execution_count": 38,
   "metadata": {},
   "outputs": [
    {
     "data": {
      "image/png": "[encoded data removed]",
      "text/plain": [
       "<matplotlib.figure.Figure at 0xfdee6b70>"
      ]
     },
     "metadata": {},
     "output_type": "display_data"
    }
   ],
   "source": [
    "plot_ROC(players_evidence,validation,['Greedy','Balanced','Curious'],'Validation')"
   ]
  }
 ],
 "metadata": {
  "kernelspec": {
   "display_name": "Python 2",
   "language": "python",
   "name": "python2"
  },
  "language_info": {
   "codemirror_mode": {
    "name": "ipython",
    "version": 2
   },
   "file_extension": ".py",
   "mimetype": "text/x-python",
   "name": "python",
   "nbconvert_exporter": "python",
   "pygments_lexer": "ipython2",
   "version": "2.7.13"
  }
 },
 "nbformat": 4,
 "nbformat_minor": 1
}
